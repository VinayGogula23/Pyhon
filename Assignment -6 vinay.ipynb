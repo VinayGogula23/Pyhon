{
 "cells": [
  {
   "cell_type": "code",
   "execution_count": null,
   "id": "25cfd252",
   "metadata": {},
   "outputs": [],
   "source": [
    "''' Define a function which will return Max of three numbers'''"
   ]
  },
  {
   "cell_type": "code",
   "execution_count": 1,
   "id": "509b48f3",
   "metadata": {},
   "outputs": [
    {
     "name": "stdout",
     "output_type": "stream",
     "text": [
      "Enter the first Number: 10\n",
      "Enter the Second Number: 20\n",
      "Enter the Thired Number: 30\n",
      "20\n"
     ]
    }
   ],
   "source": [
    "def max(x,y,z):\n",
    "    c=0\n",
    "    if x>y and x>z:\n",
    "        c=x\n",
    "    elif y>x and y>z:\n",
    "        c=y\n",
    "    elif z>x and z>y:\n",
    "        c=z\n",
    "    print(c)\n",
    "x=int(input('Enter the first Number: '))\n",
    "y=int(input('Enter the Second Number: '))\n",
    "z=int(input('Enter the Thired Number: '))\n",
    "max(10,20,3)"
   ]
  },
  {
   "cell_type": "code",
   "execution_count": 2,
   "id": "8150b5b2",
   "metadata": {},
   "outputs": [
    {
     "data": {
      "text/plain": [
       "' Define a Python Function to reverse a string.'"
      ]
     },
     "execution_count": 2,
     "metadata": {},
     "output_type": "execute_result"
    }
   ],
   "source": [
    "''' Define a Python Function to reverse a string.'''"
   ]
  },
  {
   "cell_type": "code",
   "execution_count": 5,
   "id": "5268b50a",
   "metadata": {},
   "outputs": [
    {
     "name": "stdout",
     "output_type": "stream",
     "text": [
      "Enter the String: Hyderabad Telangana\n",
      "anagnaleT dabaredyH\n"
     ]
    }
   ],
   "source": [
    "def rev(x):\n",
    "    i=len(x)-1\n",
    "    new_str=''\n",
    "    while i>=0:\n",
    "        new_str=new_str+x[i]\n",
    "        i=i-1\n",
    "    print(new_str)\n",
    "x=input('Enter the String: ')        \n",
    "rev(x)"
   ]
  },
  {
   "cell_type": "code",
   "execution_count": null,
   "id": "9c526e13",
   "metadata": {},
   "outputs": [],
   "source": [
    "'''Write a Python program to define a function that accepts 2 values \n",
    "and return its sum, subtraction and multiplication. '''"
   ]
  },
  {
   "cell_type": "code",
   "execution_count": 8,
   "id": "d39fe13a",
   "metadata": {},
   "outputs": [
    {
     "name": "stdout",
     "output_type": "stream",
     "text": [
      "Enter the first number: 5\n",
      "Enter the Second number: 6\n"
     ]
    },
    {
     "data": {
      "text/plain": [
       "('sum=', 11, 'substraction=', -1, 'product=', 30)"
      ]
     },
     "execution_count": 8,
     "metadata": {},
     "output_type": "execute_result"
    }
   ],
   "source": [
    "def mat(x,y):\n",
    "    return ('sum=',x+y,\n",
    "    'substraction=',x-y,\n",
    "    'product=',x*y)\n",
    "x=int(input('Enter the first number: '))\n",
    "y=int(input('Enter the Second number: '))\n",
    "mat(x,y)"
   ]
  },
  {
   "cell_type": "code",
   "execution_count": null,
   "id": "e4d619e0",
   "metadata": {},
   "outputs": [],
   "source": [
    "'''. Define a function that accepts roll number and returns whether the \n",
    "student is present or absent.'''"
   ]
  },
  {
   "cell_type": "code",
   "execution_count": 1,
   "id": "e08537d2",
   "metadata": {},
   "outputs": [
    {
     "name": "stdout",
     "output_type": "stream",
     "text": [
      "Number of students in class? :5\n",
      "enter the rollnumber : 21\n",
      "enter the rollnumber : 22\n",
      "enter the rollnumber : 23\n",
      "enter the rollnumber : 24\n",
      "enter the rollnumber : 25\n",
      "RollNumbers of all 5 students is : [21, 22, 23, 24, 25]\n",
      "Enter the person id.no to check: 23\n",
      "Student is present\n"
     ]
    }
   ],
   "source": [
    "def attendence(*roolnumber):\n",
    "    print('RollNumbers of all',n,'students is :',l)\n",
    "    check=int(input('Enter the person id.no to check: '))\n",
    "    if check in l:\n",
    "        print('Student is present')\n",
    "    else:\n",
    "        print('Student is Absent')\n",
    "n=int(input('Number of students in class? :'))\n",
    "l=[]\n",
    "for i in range(n):\n",
    "    k=int(input('enter the rollnumber : '))\n",
    "    l.append(k)\n",
    "attendence(l)"
   ]
  },
  {
   "cell_type": "code",
   "execution_count": null,
   "id": "1b4ecfa1",
   "metadata": {},
   "outputs": [],
   "source": [
    "'''Define a function in python that accepts n values and returns \n",
    "the maximum of n numbers'''"
   ]
  },
  {
   "cell_type": "code",
   "execution_count": 4,
   "id": "4f1ce616",
   "metadata": {},
   "outputs": [
    {
     "name": "stdout",
     "output_type": "stream",
     "text": [
      "enter number of values needed: 5\n",
      "[14 53 51 10 99]\n",
      "The maximum value is:  99\n"
     ]
    }
   ],
   "source": [
    "import numpy as np\n",
    "\n",
    "def max(*x):\n",
    "    print(k)\n",
    "    print('The maximum value is: ',np.max(k))\n",
    "n=int(input('enter number of values needed: '))\n",
    "k=np.random.randint(1,100,(n,))\n",
    "max(k)"
   ]
  },
  {
   "cell_type": "code",
   "execution_count": null,
   "id": "2a3416bc",
   "metadata": {},
   "outputs": [],
   "source": [
    "'''Define a function which counts vowels and consonant in a word. '''"
   ]
  },
  {
   "cell_type": "code",
   "execution_count": 10,
   "id": "82f46f10",
   "metadata": {},
   "outputs": [
    {
     "name": "stdout",
     "output_type": "stream",
     "text": [
      "enter a wordwelcome to python\n",
      "Vowel:  eoeoo\n",
      "Consonant:  wlcm t pythn\n"
     ]
    }
   ],
   "source": [
    "def volcon(x):\n",
    "    v=''\n",
    "    c=''\n",
    "    for i in x:\n",
    "        if i=='A' or i=='a' or i=='i' or i=='I' or i=='U' or i=='u' or i=='e' or i=='E' or i=='O' or i=='o':\n",
    "            v=v+i\n",
    "        else: c=c+i\n",
    "    print('Vowel: ',v)\n",
    "    print('Consonant: ',c)\n",
    "k=input('enter a word')\n",
    "volcon(k)"
   ]
  },
  {
   "cell_type": "code",
   "execution_count": null,
   "id": "51ff387e",
   "metadata": {},
   "outputs": [],
   "source": [
    "'''Define a function that returns Factorial of a numbe'''"
   ]
  },
  {
   "cell_type": "code",
   "execution_count": 6,
   "id": "c2f654ad",
   "metadata": {},
   "outputs": [
    {
     "name": "stdout",
     "output_type": "stream",
     "text": [
      "enter the number5\n"
     ]
    },
    {
     "data": {
      "text/plain": [
       "120"
      ]
     },
     "execution_count": 6,
     "metadata": {},
     "output_type": "execute_result"
    }
   ],
   "source": [
    "def factorial(n):\n",
    "    if n==1:\n",
    "        return 1\n",
    "    else:\n",
    "        n=n*factorial(n-1)\n",
    "        return (n)\n",
    "n=int(input('enter the number'))\n",
    "factorial(n)\n",
    "    "
   ]
  },
  {
   "cell_type": "code",
   "execution_count": 1,
   "id": "186caee7",
   "metadata": {},
   "outputs": [
    {
     "data": {
      "text/plain": [
       "'Define a function that accepts radius and returns the area of a circle.'"
      ]
     },
     "execution_count": 1,
     "metadata": {},
     "output_type": "execute_result"
    }
   ],
   "source": [
    "'''Define a function that accepts radius and returns the area of a circle.'''"
   ]
  },
  {
   "cell_type": "code",
   "execution_count": 4,
   "id": "6d432e4c",
   "metadata": {},
   "outputs": [
    {
     "data": {
      "text/plain": [
       "('the area of circle is: ', 78.5)"
      ]
     },
     "execution_count": 4,
     "metadata": {},
     "output_type": "execute_result"
    }
   ],
   "source": [
    "# Radius of Circle= pi*(r**2)\n",
    "def radius(r):\n",
    "    pi=3.14\n",
    "    return ('the area of circle is: ',pi*(r**2))\n",
    "radius(5)"
   ]
  },
  {
   "cell_type": "code",
   "execution_count": null,
   "id": "679ae09c",
   "metadata": {},
   "outputs": [],
   "source": [
    "'''Define a function that takes a number as a parameter and check \n",
    "the number is prime or not'''"
   ]
  },
  {
   "cell_type": "code",
   "execution_count": 11,
   "id": "f2821c58",
   "metadata": {},
   "outputs": [
    {
     "name": "stdout",
     "output_type": "stream",
     "text": [
      "enter the number: 7\n",
      "The entered number is a prime number\n"
     ]
    }
   ],
   "source": [
    "def prime(x):\n",
    "    i=1\n",
    "    c=0\n",
    "    while i<=x:\n",
    "        if x%i==0:\n",
    "            c=c+1\n",
    "        i=i+1\n",
    "    if c==2:\n",
    "        print('The entered number is a prime number')\n",
    "    else: print('Not a prime number')\n",
    "x=int(input('enter the number: '))\n",
    "prime(x)"
   ]
  },
  {
   "cell_type": "code",
   "execution_count": null,
   "id": "8956acc7",
   "metadata": {},
   "outputs": [],
   "source": [
    "'''Mary wants to run a 25-mile marathon. When she attempts to \n",
    "sign up for the marathon, she notices the sign-up sheet doesn't \n",
    "directly state the marathon's length. Instead, the marathon's length \n",
    "is listed in small, different portions. Help Mary find out how long \n",
    "the marathon actually is. So create a function that \n",
    "** Return True if the marathon is 25 miles long, otherwise, return \n",
    "False.\n",
    "Examples :-\n",
    "marathon_distance([1, 2, 3, 4]) ➞ False \n",
    "marathon_distance([1, 9, 5, 8, 2]) ➞ True\n",
    "marathon_distance([-6, 15, 4]) ➞ True\n",
    "'''"
   ]
  },
  {
   "cell_type": "code",
   "execution_count": 25,
   "id": "3d4acdfd",
   "metadata": {},
   "outputs": [
    {
     "name": "stdout",
     "output_type": "stream",
     "text": [
      "enter number of values to be added in a lise: 3\n",
      "enter the values: -6\n",
      "enter the values: 15\n",
      "enter the values: 4\n",
      "[-6, 15, 4]\n"
     ]
    },
    {
     "data": {
      "text/plain": [
       "True"
      ]
     },
     "execution_count": 25,
     "metadata": {},
     "output_type": "execute_result"
    }
   ],
   "source": [
    "import numpy as np \n",
    "def marthon(x):\n",
    "    print(l)\n",
    "    y=[]\n",
    "    c=0\n",
    "    for k in l:\n",
    "        if k<0:\n",
    "            y.append(abs(k))\n",
    "        else: \n",
    "            y.append(k)\n",
    "    s=np.sum(y)\n",
    "    if s==25:\n",
    "        return True\n",
    "    else:\n",
    "        return False \n",
    "l=[]\n",
    "n=int(input('enter number of values to be added in a lise: '))\n",
    "i=1\n",
    "while i<=n:\n",
    "    a=int(input('enter the values: '))\n",
    "    l.append(a)\n",
    "    i=i+1\n",
    "marthon(l)\n",
    "    "
   ]
  },
  {
   "cell_type": "code",
   "execution_count": 26,
   "id": "370f8dcd",
   "metadata": {},
   "outputs": [
    {
     "data": {
      "text/plain": [
       "\"Create a function that takes a number and returns True if the \\nnumber is automorphic, False if it isn't.\\n** number n is automorphic if n^2 ends in n.\\n\\nExample:\\nn=5, n^2=25\\nso 5 is an automorphic\""
      ]
     },
     "execution_count": 26,
     "metadata": {},
     "output_type": "execute_result"
    }
   ],
   "source": [
    "'''Create a function that takes a number and returns True if the \n",
    "number is automorphic, False if it isn't.\n",
    "** number n is automorphic if n^2 ends in n.\n",
    "\n",
    "Example:\n",
    "n=5, n^2=25\n",
    "so 5 is an automorphic'''"
   ]
  },
  {
   "cell_type": "code",
   "execution_count": 36,
   "id": "fe735cd0",
   "metadata": {},
   "outputs": [
    {
     "name": "stdout",
     "output_type": "stream",
     "text": [
      "Enter the number to check: 5\n",
      "The entered Number is Automorphic:  5\n"
     ]
    }
   ],
   "source": [
    "def automorphic(x):\n",
    "    x1=x**2\n",
    "    x2=str(x1)\n",
    "    if int(x2[-1])==x:\n",
    "        print('The entered Number is Automorphic: ',x)\n",
    "    else: \n",
    "        print('The entered Number is not a Automorphic: ',x)\n",
    "x=int(input('Enter the number to check: '))\n",
    "automorphic(x)\n",
    "        "
   ]
  },
  {
   "cell_type": "code",
   "execution_count": null,
   "id": "0eccc8e5",
   "metadata": {},
   "outputs": [],
   "source": [
    "'''Create a function, that will take given a, b, c, and do the following: \n",
    " Add a to itself b times and Check if the result is divisible by c.\n",
    " and return true if it is divisible by c or false\n",
    "\n",
    "A=1\n",
    "B=2\n",
    "C=2\n",
    "So output is True because 1+1=2 and 2/2=0 '''"
   ]
  },
  {
   "cell_type": "code",
   "execution_count": 42,
   "id": "49c6fac0",
   "metadata": {},
   "outputs": [
    {
     "name": "stdout",
     "output_type": "stream",
     "text": [
      "enter the first number: 1\n",
      "enter the first number: 2\n",
      "enter the first number: 2\n"
     ]
    },
    {
     "data": {
      "text/plain": [
       "True"
      ]
     },
     "execution_count": 42,
     "metadata": {},
     "output_type": "execute_result"
    }
   ],
   "source": [
    "def fun(a,b,c):\n",
    "    s=0\n",
    "    for i in range(1,b+1):\n",
    "        s=s+a \n",
    "    if s%c==0:\n",
    "        return True\n",
    "    else: False\n",
    "a=int(input('enter the first number: '))\n",
    "b=int(input('enter the first number: '))\n",
    "c=int(input('enter the first number: '))\n",
    "fun(a,b,c)"
   ]
  },
  {
   "cell_type": "code",
   "execution_count": null,
   "id": "01977624",
   "metadata": {},
   "outputs": [],
   "source": [
    "''' Create a function that changes specific words into emoticons. \n",
    "Given a sentence as a string, replace the words smile, grin, sad and mad \n",
    "with their corresponding emoticons.\n",
    "word emoticon\n",
    "smile :D\n",
    "grin :) \n",
    "sad :( \n",
    "mad :P\n",
    "functionname(\"Make me smile\") ➞ \"Make me :D\"\n",
    "functionname (\"Make me grin\") ➞ \"Make me :)\" \n",
    "functionname (\"Make me sad\") ➞ \"Make me :(\"'''"
   ]
  },
  {
   "cell_type": "code",
   "execution_count": 52,
   "id": "18e8d200",
   "metadata": {},
   "outputs": [
    {
     "name": "stdout",
     "output_type": "stream",
     "text": [
      "enter the string: Make me smile\n",
      "Make me :D   \n"
     ]
    }
   ],
   "source": [
    "def emoticon(x):\n",
    "    if 'smile' in x:\n",
    "        k=x.replace('smile',':D   ')\n",
    "        print(k)\n",
    "    elif 'grin' in x:\n",
    "        k=x.replace('grin',':)  ')\n",
    "        print(k)\n",
    "    elif 'sad' in x:\n",
    "        k=x.replace('sad',':( ')\n",
    "        print(k)\n",
    "    elif 'mad' in x:\n",
    "        k=x.replace('mad',':p ')\n",
    "        print(k)\n",
    "    \n",
    "x=input('enter the string: ')\n",
    "emoticon(x)\n",
    "        \n",
    "    \n",
    "    \n",
    "    "
   ]
  },
  {
   "cell_type": "code",
   "execution_count": null,
   "id": "8425d657",
   "metadata": {},
   "outputs": [],
   "source": [
    "'''Write a Python program to square and cube every number in a given \n",
    "list of integers using Lambda'''"
   ]
  },
  {
   "cell_type": "code",
   "execution_count": 56,
   "id": "5de96532",
   "metadata": {},
   "outputs": [
    {
     "name": "stdout",
     "output_type": "stream",
     "text": [
      "Square of the given list is   [1, 4, 9, 16, 25]\n",
      "Cube of the given list is   [1, 8, 27, 64, 125]\n"
     ]
    }
   ],
   "source": [
    "x=list(map(lambda x:x**2,[1,2,3,4,5]))\n",
    "y=list(map(lambda x:x**3,[1,2,3,4,5]))\n",
    "print('Square of the given list is  ',x)\n",
    "print('Cube of the given list is  ',y)"
   ]
  },
  {
   "cell_type": "code",
   "execution_count": null,
   "id": "37c8ecc8",
   "metadata": {},
   "outputs": [],
   "source": [
    "'''Write a Python program to check whether a given string is number \n",
    "or not using Lambda'''"
   ]
  },
  {
   "cell_type": "code",
   "execution_count": 57,
   "id": "3ff57f3e",
   "metadata": {},
   "outputs": [
    {
     "name": "stdout",
     "output_type": "stream",
     "text": [
      "enter value: 5\n",
      "The enterd string is a number\n"
     ]
    }
   ],
   "source": [
    "x=input('enter value: ')\n",
    "if x.isdigit():\n",
    "    print('The enterd string is a number')\n",
    "else: print('The enterd string is not a number')"
   ]
  },
  {
   "cell_type": "code",
   "execution_count": null,
   "id": "74064a84",
   "metadata": {},
   "outputs": [],
   "source": []
  }
 ],
 "metadata": {
  "kernelspec": {
   "display_name": "Python 3 (ipykernel)",
   "language": "python",
   "name": "python3"
  },
  "language_info": {
   "codemirror_mode": {
    "name": "ipython",
    "version": 3
   },
   "file_extension": ".py",
   "mimetype": "text/x-python",
   "name": "python",
   "nbconvert_exporter": "python",
   "pygments_lexer": "ipython3",
   "version": "3.9.12"
  }
 },
 "nbformat": 4,
 "nbformat_minor": 5
}
