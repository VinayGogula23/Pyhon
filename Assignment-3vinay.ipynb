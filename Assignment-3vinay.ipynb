{
 "cells": [
  {
   "cell_type": "code",
   "execution_count": 1,
   "id": "d6f3df74",
   "metadata": {},
   "outputs": [
    {
     "data": {
      "text/plain": [
       "'Write a Python program that prints all the numbers from \\n0 to 6 except 3 and 6'"
      ]
     },
     "execution_count": 1,
     "metadata": {},
     "output_type": "execute_result"
    }
   ],
   "source": [
    "'''Write a Python program that prints all the numbers from \n",
    "0 to 6 except 3 and 6'''"
   ]
  },
  {
   "cell_type": "code",
   "execution_count": 2,
   "id": "052cbd04",
   "metadata": {},
   "outputs": [
    {
     "name": "stdout",
     "output_type": "stream",
     "text": [
      "0\n",
      "1\n",
      "2\n",
      "4\n",
      "5\n"
     ]
    }
   ],
   "source": [
    "for i in range(0,7):\n",
    "    if i==3 or i==6:\n",
    "        continue\n",
    "    print(i)"
   ]
  },
  {
   "cell_type": "code",
   "execution_count": 3,
   "id": "41b2102a",
   "metadata": {},
   "outputs": [
    {
     "data": {
      "text/plain": [
       "'Write a program to accept a number from a user and \\ncalculate the sum of all numbers from 1 to a given number\\n'"
      ]
     },
     "execution_count": 3,
     "metadata": {},
     "output_type": "execute_result"
    }
   ],
   "source": [
    "'''Write a program to accept a number from a user and \n",
    "calculate the sum of all numbers from 1 to a given number\n",
    "'''"
   ]
  },
  {
   "cell_type": "code",
   "execution_count": 7,
   "id": "2dc12937",
   "metadata": {},
   "outputs": [],
   "source": [
    "def sum(n):\n",
    "    if n==0:\n",
    "        return n\n",
    "    n=n+sum(n-1)\n",
    "    return n\n"
   ]
  },
  {
   "cell_type": "code",
   "execution_count": 8,
   "id": "beb2e96a",
   "metadata": {},
   "outputs": [
    {
     "data": {
      "text/plain": [
       "15"
      ]
     },
     "execution_count": 8,
     "metadata": {},
     "output_type": "execute_result"
    }
   ],
   "source": [
    "sum(5)"
   ]
  },
  {
   "cell_type": "code",
   "execution_count": 9,
   "id": "d5546555",
   "metadata": {},
   "outputs": [
    {
     "data": {
      "text/plain": [
       "'Write a program to print multiplication table of a given \\nnumber(input)'"
      ]
     },
     "execution_count": 9,
     "metadata": {},
     "output_type": "execute_result"
    }
   ],
   "source": [
    "'''Write a program to print multiplication table of a given \n",
    "number(input)'''"
   ]
  },
  {
   "cell_type": "code",
   "execution_count": 19,
   "id": "f8131de6",
   "metadata": {},
   "outputs": [
    {
     "name": "stdout",
     "output_type": "stream",
     "text": [
      "enter the requried table : 5\n",
      "5 * 1 = 5\n",
      "5 * 2 = 10\n",
      "5 * 3 = 15\n",
      "5 * 4 = 20\n",
      "5 * 5 = 25\n",
      "5 * 6 = 30\n",
      "5 * 7 = 35\n",
      "5 * 8 = 40\n",
      "5 * 9 = 45\n",
      "5 * 10 = 50\n"
     ]
    }
   ],
   "source": [
    "number=int(input('enter the requried table : '))\n",
    "if number>0:\n",
    "    for i in range(1,11):\n",
    "        print(number,'*',i,'=',number*i)"
   ]
  },
  {
   "cell_type": "code",
   "execution_count": 20,
   "id": "1f0a5c9f",
   "metadata": {},
   "outputs": [
    {
     "data": {
      "text/plain": [
       "'Write a program to count the total number of digits in a \\nnumber using a while loop. '"
      ]
     },
     "execution_count": 20,
     "metadata": {},
     "output_type": "execute_result"
    }
   ],
   "source": [
    "'''Write a program to count the total number of digits in a \n",
    "number using a while loop. '''"
   ]
  },
  {
   "cell_type": "code",
   "execution_count": 25,
   "id": "abd859a7",
   "metadata": {},
   "outputs": [
    {
     "name": "stdout",
     "output_type": "stream",
     "text": [
      "enter the number : 1234567890\n",
      "the total number of digits in number are : 10\n"
     ]
    }
   ],
   "source": [
    "number=int(input('enter the number : '))\n",
    "x=str(number)\n",
    "count=0;i=1\n",
    "if number>0:\n",
    "    while i<=len(x):\n",
    "        count=count+1\n",
    "        i=i+1       \n",
    "print('the total number of digits in number are :',count)"
   ]
  },
  {
   "cell_type": "code",
   "execution_count": 27,
   "id": "413053b9",
   "metadata": {},
   "outputs": [
    {
     "data": {
      "text/plain": [
       "'Write a Python program which iterates the integers from 1 \\nto 60. For multiples of three print \"Fizz\" instead of the number and for the multiples of five print \"Buzz\". For \\nnumbers which are multiples of both three and five print \\n\"FizzBuzz\".\\n'"
      ]
     },
     "execution_count": 27,
     "metadata": {},
     "output_type": "execute_result"
    }
   ],
   "source": [
    "'''Write a Python program which iterates the integers from 1 \n",
    "to 60. For multiples of three print \"Fizz\" instead of the number and for the multiples of five print \"Buzz\". For \n",
    "numbers which are multiples of both three and five print \n",
    "\"FizzBuzz\".\n",
    "'''"
   ]
  },
  {
   "cell_type": "code",
   "execution_count": 28,
   "id": "3d74eb64",
   "metadata": {},
   "outputs": [
    {
     "name": "stdout",
     "output_type": "stream",
     "text": [
      "1\n",
      "2\n",
      "Fizz\n",
      "4\n",
      "Buzz\n",
      "Fizz\n",
      "7\n",
      "8\n",
      "Fizz\n",
      "Buzz\n",
      "11\n",
      "Fizz\n",
      "13\n",
      "14\n",
      "FizzBuzz\n",
      "16\n",
      "17\n",
      "Fizz\n",
      "19\n",
      "Buzz\n",
      "Fizz\n",
      "22\n",
      "23\n",
      "Fizz\n",
      "Buzz\n",
      "26\n",
      "Fizz\n",
      "28\n",
      "29\n",
      "FizzBuzz\n",
      "31\n",
      "32\n",
      "Fizz\n",
      "34\n",
      "Buzz\n",
      "Fizz\n",
      "37\n",
      "38\n",
      "Fizz\n",
      "Buzz\n",
      "41\n",
      "Fizz\n",
      "43\n",
      "44\n",
      "FizzBuzz\n",
      "46\n",
      "47\n",
      "Fizz\n",
      "49\n",
      "Buzz\n",
      "Fizz\n",
      "52\n",
      "53\n",
      "Fizz\n",
      "Buzz\n",
      "56\n",
      "Fizz\n",
      "58\n",
      "59\n",
      "FizzBuzz\n"
     ]
    }
   ],
   "source": [
    "for i in range(1,61):\n",
    "    if i%3==0 and i%5==0:\n",
    "        print('FizzBuzz')\n",
    "    elif i%3==0:\n",
    "        print('Fizz')\n",
    "    elif i%5==0:\n",
    "        print('Buzz')\n",
    "    else:\n",
    "        print(i)"
   ]
  },
  {
   "cell_type": "code",
   "execution_count": 29,
   "id": "b4502132",
   "metadata": {},
   "outputs": [
    {
     "data": {
      "text/plain": [
       "'Write a Python program that accepts a string and calculate \\nthe number of digits and letters'"
      ]
     },
     "execution_count": 29,
     "metadata": {},
     "output_type": "execute_result"
    }
   ],
   "source": [
    "'''Write a Python program that accepts a string and calculate \n",
    "the number of digits and letters'''"
   ]
  },
  {
   "cell_type": "code",
   "execution_count": 33,
   "id": "03a5ba66",
   "metadata": {},
   "outputs": [
    {
     "name": "stdout",
     "output_type": "stream",
     "text": [
      "enter the string : python3.10\n",
      "Letters =  6\n",
      "Digits =  3\n"
     ]
    }
   ],
   "source": [
    "string=input('enter the string : ')\n",
    "letters=0\n",
    "digits=0\n",
    "for i in range(len(x)):\n",
    "    if string[i].isalpha():\n",
    "        letters=letters+1\n",
    "    elif string[i].isdigit():\n",
    "        digits=digits+1\n",
    "print('Letters = ',letters)\n",
    "print('Digits = ',digits)"
   ]
  },
  {
   "cell_type": "code",
   "execution_count": 34,
   "id": "43161ce8",
   "metadata": {},
   "outputs": [
    {
     "data": {
      "text/plain": [
       "'Write a Python program to check the validity of password \\ninput by users. \\nValidation:\\nAt least 1 letter between [a-z] and 1 letter between [A-Z]. \\nAt least 1 number between [0-9]. \\nAt least 1 character from [$#@].\\nMinimum length 6 characters.\\nMaximum length 16 characters.'"
      ]
     },
     "execution_count": 34,
     "metadata": {},
     "output_type": "execute_result"
    }
   ],
   "source": [
    "'''Write a Python program to check the validity of password \n",
    "input by users. \n",
    "Validation:\n",
    "At least 1 letter between [a-z] and 1 letter between [A-Z]. \n",
    "At least 1 number between [0-9]. \n",
    "At least 1 character from [$#@].\n",
    "Minimum length 6 characters.\n",
    "Maximum length 16 characters.'''"
   ]
  },
  {
   "cell_type": "code",
   "execution_count": 2,
   "id": "c4bec130",
   "metadata": {},
   "outputs": [
    {
     "name": "stdout",
     "output_type": "stream",
     "text": [
      "enter the password:Vikram#3561\n",
      "Valid password\n"
     ]
    }
   ],
   "source": [
    "a=input('enter the password:')\n",
    "u=0;l=0;d=0;s=0\n",
    "if len(a)>=6 and len(a)<=16:\n",
    "    for i in range(len(a)):\n",
    "        if a[i].isupper():u=u+1\n",
    "        elif a[i].islower():l=l+1 \n",
    "        elif a[i].isdigit():d=d+1  \n",
    "        elif (a[i]=='$' or a[i]=='#' or a[i]=='@'):s=s+1\n",
    "if u>=1 and l>=1 and d>=1 and s>=1:print('Valid password')\n",
    "else:print('password didnot match requriements')"
   ]
  },
  {
   "cell_type": "code",
   "execution_count": 3,
   "id": "ac81492a",
   "metadata": {},
   "outputs": [
    {
     "data": {
      "text/plain": [
       "'Write a program in Python to reverse a word by using \\nwhile loop'"
      ]
     },
     "execution_count": 3,
     "metadata": {},
     "output_type": "execute_result"
    }
   ],
   "source": [
    "'''Write a program in Python to reverse a word by using \n",
    "while loop'''"
   ]
  },
  {
   "cell_type": "code",
   "execution_count": 7,
   "id": "1fedb15c",
   "metadata": {},
   "outputs": [
    {
     "name": "stdout",
     "output_type": "stream",
     "text": [
      "enter the word : abcde\n",
      "edcba\n"
     ]
    }
   ],
   "source": [
    "x=input('enter the word : ')\n",
    "i=(len(x)-1)\n",
    "j=''\n",
    "while i>=0:\n",
    "    j=j+x[i]\n",
    "    i=i-1\n",
    "print(j)"
   ]
  },
  {
   "cell_type": "code",
   "execution_count": 8,
   "id": "cc0f8df4",
   "metadata": {},
   "outputs": [
    {
     "data": {
      "text/plain": [
       "'Write a program which takes 10 integers as input using loop \\nand print their average value on the screen'"
      ]
     },
     "execution_count": 8,
     "metadata": {},
     "output_type": "execute_result"
    }
   ],
   "source": [
    "'''Write a program which takes 10 integers as input using loop \n",
    "and print their average value on the screen'''"
   ]
  },
  {
   "cell_type": "code",
   "execution_count": 9,
   "id": "78af3c2c",
   "metadata": {},
   "outputs": [
    {
     "name": "stdout",
     "output_type": "stream",
     "text": [
      "enter the 10 digit number : 1234567890\n",
      "4.5\n"
     ]
    }
   ],
   "source": [
    "x=input('enter the 10 digit number : ')\n",
    "c=0\n",
    "for i in x:\n",
    "    c=c+int(i)\n",
    "print(c/len(x))"
   ]
  },
  {
   "cell_type": "code",
   "execution_count": 10,
   "id": "7bdfa049",
   "metadata": {},
   "outputs": [
    {
     "data": {
      "text/plain": [
       "' Write a program which takes integer inputs from user until \\nhe/she presses “q” (Ask to press q to quit after every integer \\ninput). Print average and product of all numbers.'"
      ]
     },
     "execution_count": 10,
     "metadata": {},
     "output_type": "execute_result"
    }
   ],
   "source": [
    "''' Write a program which takes integer inputs from user until \n",
    "he/she presses “q” (Ask to press q to quit after every integer \n",
    "input). Print average and product of all numbers.'''"
   ]
  },
  {
   "cell_type": "code",
   "execution_count": 6,
   "id": "305cc019",
   "metadata": {},
   "outputs": [
    {
     "name": "stdout",
     "output_type": "stream",
     "text": [
      "enter the number: 1\n",
      "enter any alphabet : a\n",
      "enter the number: 2\n",
      "enter any alphabet : s\n",
      "enter the number: 3\n",
      "enter any alphabet : q\n",
      "['1', '2'] avg is 1.5 and product is 2\n"
     ]
    }
   ],
   "source": [
    "b=[]\n",
    "while True:\n",
    "    a=input('enter the number: ')\n",
    "    k=input('enter any alphabet : ')\n",
    "    if k=='q':\n",
    "        break\n",
    "    b.append(a) \n",
    "c=0\n",
    "d=1\n",
    "for i in range(len(b)):\n",
    "    c=c+int(b[i])\n",
    "    d=d*int(b[i])\n",
    "print('{} avg is {} and product is {}'.format(b,c/len(b),d))"
   ]
  },
  {
   "cell_type": "code",
   "execution_count": 7,
   "id": "c0fbebeb",
   "metadata": {},
   "outputs": [
    {
     "data": {
      "text/plain": [
       "'Write a Python program which will remove all digits or \\nany other characters from the string except alphabets'"
      ]
     },
     "execution_count": 7,
     "metadata": {},
     "output_type": "execute_result"
    }
   ],
   "source": [
    "'''Write a Python program which will remove all digits or \n",
    "any other characters from the string except alphabets'''"
   ]
  },
  {
   "cell_type": "code",
   "execution_count": 12,
   "id": "b1065254",
   "metadata": {},
   "outputs": [
    {
     "name": "stdout",
     "output_type": "stream",
     "text": [
      "enter thw string asdfgh!@#$%2345>>>...\n",
      "asdfgh\n"
     ]
    }
   ],
   "source": [
    "x=input('enter thw string ')\n",
    "c=''\n",
    "for i in x:\n",
    "    if i.isalpha():\n",
    "        c=c+i\n",
    "print(c)"
   ]
  },
  {
   "cell_type": "code",
   "execution_count": 13,
   "id": "07e5606d",
   "metadata": {},
   "outputs": [
    {
     "data": {
      "text/plain": [
       "' Write a python program to find the sum of all even \\nnumbers from 0 to 10\\n'"
      ]
     },
     "execution_count": 13,
     "metadata": {},
     "output_type": "execute_result"
    }
   ],
   "source": [
    "''' Write a python program to find the sum of all even \n",
    "numbers from 0 to 10\n",
    "'''"
   ]
  },
  {
   "cell_type": "code",
   "execution_count": 21,
   "id": "8ef11240",
   "metadata": {},
   "outputs": [
    {
     "name": "stdout",
     "output_type": "stream",
     "text": [
      "20\n"
     ]
    }
   ],
   "source": [
    "c=0\n",
    "for i in range(10):\n",
    "    if i%2==0:\n",
    "        c=c+i\n",
    "print(c)\n",
    "        \n",
    "        "
   ]
  },
  {
   "cell_type": "code",
   "execution_count": 22,
   "id": "8709d144",
   "metadata": {},
   "outputs": [
    {
     "data": {
      "text/plain": [
       "'Write a python program which will accept a digit and print\\nAll the numbers before it till 0'"
      ]
     },
     "execution_count": 22,
     "metadata": {},
     "output_type": "execute_result"
    }
   ],
   "source": [
    "'''Write a python program which will accept a digit and print\n",
    "All the numbers before it till 0'''"
   ]
  },
  {
   "cell_type": "code",
   "execution_count": 25,
   "id": "c01ac97f",
   "metadata": {},
   "outputs": [
    {
     "name": "stdout",
     "output_type": "stream",
     "text": [
      "enter the numbet : 5\n",
      "5\n",
      "4\n",
      "3\n",
      "2\n",
      "1\n",
      "0\n"
     ]
    }
   ],
   "source": [
    "x=int(input('enter the numbet : '))\n",
    "\n",
    "while x>=0:\n",
    "    print(x)\n",
    "    x-=1"
   ]
  },
  {
   "cell_type": "code",
   "execution_count": 26,
   "id": "1a6ed764",
   "metadata": {},
   "outputs": [
    {
     "data": {
      "text/plain": [
       "'Create a dynamic calculator which will run continually till \\nyou press “c'"
      ]
     },
     "execution_count": 26,
     "metadata": {},
     "output_type": "execute_result"
    }
   ],
   "source": [
    "'''Create a dynamic calculator which will run continually till \n",
    "you press “c'''"
   ]
  },
  {
   "cell_type": "code",
   "execution_count": null,
   "id": "0a1e2b9d",
   "metadata": {},
   "outputs": [
    {
     "name": "stdout",
     "output_type": "stream",
     "text": [
      "entrt and alphabet : a\n"
     ]
    }
   ],
   "source": [
    "while True:\n",
    "    k=input('entrt and alphabet : ')\n",
    "    if k!='c' and k.isalpha():\n",
    "        def calculater(x,s,y):\n",
    "            if s=='+':\n",
    "                a=x+y\n",
    "                print(a) \n",
    "            elif s=='-':\n",
    "                a=x-y\n",
    "                print(a)\n",
    "            elif s=='*':\n",
    "                a=x*y\n",
    "                print(a)\n",
    "            elif s=='/':\n",
    "                a=x//y\n",
    "                print(a)\n",
    "\n",
    "        x=int(input('enter the first number : ')) \n",
    "        y=int(input('enter the second number : ')) \n",
    "        s=input('enter the opearation to do : ')\n",
    "        calculater(x,s,y)\n",
    "    else: break\n",
    "        \n"
   ]
  },
  {
   "cell_type": "code",
   "execution_count": null,
   "id": "e060f3e3",
   "metadata": {},
   "outputs": [],
   "source": []
  },
  {
   "cell_type": "code",
   "execution_count": null,
   "id": "970d3aa7",
   "metadata": {},
   "outputs": [],
   "source": []
  }
 ],
 "metadata": {
  "kernelspec": {
   "display_name": "Python 3 (ipykernel)",
   "language": "python",
   "name": "python3"
  },
  "language_info": {
   "codemirror_mode": {
    "name": "ipython",
    "version": 3
   },
   "file_extension": ".py",
   "mimetype": "text/x-python",
   "name": "python",
   "nbconvert_exporter": "python",
   "pygments_lexer": "ipython3",
   "version": "3.9.12"
  }
 },
 "nbformat": 4,
 "nbformat_minor": 5
}
