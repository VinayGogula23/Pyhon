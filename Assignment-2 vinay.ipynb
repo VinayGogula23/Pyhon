{
 "cells": [
  {
   "cell_type": "code",
   "execution_count": 1,
   "id": "5fa9658a",
   "metadata": {},
   "outputs": [
    {
     "data": {
      "text/plain": [
       "'Write a program to accept two numbers from the user \\nand calculate multiplication, division\\n'"
      ]
     },
     "execution_count": 1,
     "metadata": {},
     "output_type": "execute_result"
    }
   ],
   "source": [
    "'''Write a program to accept two numbers from the user \n",
    "and calculate multiplication, division\n",
    "'''"
   ]
  },
  {
   "cell_type": "code",
   "execution_count": 2,
   "id": "f3632103",
   "metadata": {},
   "outputs": [
    {
     "name": "stdout",
     "output_type": "stream",
     "text": [
      "enter the first value : 15\n",
      "enter the second value : 3\n",
      "choose multiplication or divisionmultiplication\n",
      "45\n"
     ]
    }
   ],
   "source": [
    "first=int(input('enter the first value : '))\n",
    "second=int(input('enter the second value : '))\n",
    "operation=input('choose multiplication or division')\n",
    "if operation=='multiplication':\n",
    "    print(first*second)\n",
    "elif operation=='division':\n",
    "    print(first//second)\n",
    "    \n",
    " "
   ]
  },
  {
   "cell_type": "code",
   "execution_count": 3,
   "id": "a71e1225",
   "metadata": {},
   "outputs": [
    {
     "data": {
      "text/plain": [
       "'Write a python program to print the characters from a \\nstring that are present at an even index'"
      ]
     },
     "execution_count": 3,
     "metadata": {},
     "output_type": "execute_result"
    }
   ],
   "source": [
    "'''Write a python program to print the characters from a \n",
    "string that are present at an even index'''"
   ]
  },
  {
   "cell_type": "code",
   "execution_count": 7,
   "id": "83d19329",
   "metadata": {},
   "outputs": [
    {
     "name": "stdout",
     "output_type": "stream",
     "text": [
      "enter the string : vinay\n",
      "v\n",
      "n\n",
      "y\n"
     ]
    }
   ],
   "source": [
    "string=input('enter the string : ')\n",
    "for i in range(len(string)):\n",
    "    if i%2==0:\n",
    "        print(string[i])"
   ]
  },
  {
   "cell_type": "code",
   "execution_count": 8,
   "id": "0735fefb",
   "metadata": {},
   "outputs": [
    {
     "data": {
      "text/plain": [
       "'Write a python program to print the characters from a \\nstring that are present at an odd index'"
      ]
     },
     "execution_count": 8,
     "metadata": {},
     "output_type": "execute_result"
    }
   ],
   "source": [
    "'''Write a python program to print the characters from a \n",
    "string that are present at an odd index'''"
   ]
  },
  {
   "cell_type": "code",
   "execution_count": 9,
   "id": "a42ca507",
   "metadata": {},
   "outputs": [
    {
     "name": "stdout",
     "output_type": "stream",
     "text": [
      "enter the string : vinay\n",
      "i\n",
      "a\n"
     ]
    }
   ],
   "source": [
    "string=input('enter the string : ')\n",
    "for i in range(len(string)):\n",
    "    if i%2!=0:\n",
    "        print(string[i])"
   ]
  },
  {
   "cell_type": "code",
   "execution_count": 10,
   "id": "3b2414c8",
   "metadata": {},
   "outputs": [
    {
     "data": {
      "text/plain": [
       "'Write a python program which will print the sum of the \\ntwo numbers if the two numbers are even or it will print the \\ndifference of two numbers\\n'"
      ]
     },
     "execution_count": 10,
     "metadata": {},
     "output_type": "execute_result"
    }
   ],
   "source": [
    "'''Write a python program which will print the sum of the \n",
    "two numbers if the two numbers are even or it will print the \n",
    "difference of two numbers\n",
    "'''"
   ]
  },
  {
   "cell_type": "code",
   "execution_count": 12,
   "id": "2078ff15",
   "metadata": {},
   "outputs": [
    {
     "name": "stdout",
     "output_type": "stream",
     "text": [
      "enter the first number : 2\n",
      "enter the second number : 3\n",
      "6\n"
     ]
    }
   ],
   "source": [
    "first=int(input('enter the first number : '))\n",
    "second=int(input('enter the second number : '))\n",
    "if first%2==0 and second%2==0:\n",
    "    print(first+second)\n",
    "else:\n",
    "    print(first*second)"
   ]
  },
  {
   "cell_type": "code",
   "execution_count": null,
   "id": "31d1e743",
   "metadata": {},
   "outputs": [],
   "source": [
    "'''Write a python program to convert all even indexed \n",
    "alphabets to upper and odd indexed char lower'''"
   ]
  },
  {
   "cell_type": "code",
   "execution_count": 15,
   "id": "8fa7e424",
   "metadata": {},
   "outputs": [
    {
     "name": "stdout",
     "output_type": "stream",
     "text": [
      "enter the string : vinay\n",
      "ViNaY"
     ]
    }
   ],
   "source": [
    "x=input('enter the string : ')\n",
    "for i in range(len(x)):\n",
    "    if i%2==0:\n",
    "        print(x[i].upper(),end='')\n",
    "    else:\n",
    "        print(x[i].lower(),end='')"
   ]
  },
  {
   "cell_type": "code",
   "execution_count": 16,
   "id": "defa75cc",
   "metadata": {},
   "outputs": [
    {
     "data": {
      "text/plain": [
       "'Write a python program which will print True if the input\\nnumber is divisible by 5 or else False'"
      ]
     },
     "execution_count": 16,
     "metadata": {},
     "output_type": "execute_result"
    }
   ],
   "source": [
    "'''Write a python program which will print True if the input\n",
    "number is divisible by 5 or else False'''"
   ]
  },
  {
   "cell_type": "code",
   "execution_count": 18,
   "id": "0c73bd81",
   "metadata": {},
   "outputs": [
    {
     "name": "stdout",
     "output_type": "stream",
     "text": [
      "enter the value : 76\n",
      "False\n"
     ]
    }
   ],
   "source": [
    "number=int(input('enter the value : '))\n",
    "if number%5==0:\n",
    "    print('True')\n",
    "else:\n",
    "    print('False')"
   ]
  },
  {
   "cell_type": "code",
   "execution_count": 1,
   "id": "32b0d7df",
   "metadata": {},
   "outputs": [
    {
     "data": {
      "text/plain": [
       "'Given two integer numbers return their product only if the \\nproduct is greater than 1000, else return their sum\\n'"
      ]
     },
     "execution_count": 1,
     "metadata": {},
     "output_type": "execute_result"
    }
   ],
   "source": [
    "'''Given two integer numbers return their product only if the \n",
    "product is greater than 1000, else return their sum\n",
    "'''"
   ]
  },
  {
   "cell_type": "code",
   "execution_count": 16,
   "id": "2c8eec31",
   "metadata": {},
   "outputs": [
    {
     "name": "stdout",
     "output_type": "stream",
     "text": [
      "enter first number : 5\n",
      "enter second number : 6\n"
     ]
    },
    {
     "data": {
      "text/plain": [
       "11"
      ]
     },
     "execution_count": 16,
     "metadata": {},
     "output_type": "execute_result"
    }
   ],
   "source": [
    "def product(number1,number2):\n",
    "    product3=(number1*number2)\n",
    "    if product3>1000:\n",
    "        return product3\n",
    "    else:\n",
    "        return number1+number2\n",
    "number1=int(input('enter first number : '))\n",
    "number2=int(input('enter second number : '))\n",
    "product(number1,number2)"
   ]
  },
  {
   "cell_type": "code",
   "execution_count": 17,
   "id": "dc432884",
   "metadata": {},
   "outputs": [
    {
     "data": {
      "text/plain": [
       "'Given two strings x, y writes a program to return a new \\nstring made of x and y’s first, middle, and last characters'"
      ]
     },
     "execution_count": 17,
     "metadata": {},
     "output_type": "execute_result"
    }
   ],
   "source": [
    "'''Given two strings x, y writes a program to return a new \n",
    "string made of x and y’s first, middle, and last characters'''"
   ]
  },
  {
   "cell_type": "code",
   "execution_count": 20,
   "id": "031f09c2",
   "metadata": {},
   "outputs": [
    {
     "data": {
      "text/plain": [
       "'pjtvos'"
      ]
     },
     "execution_count": 20,
     "metadata": {},
     "output_type": "execute_result"
    }
   ],
   "source": [
    "x='pytho'\n",
    "y='javas'\n",
    "a=int(len(x)/2)\n",
    "b=int(len(y)/2)\n",
    "x[0]+y[0]+x[a]+y[b]+x[-1]+y[-1]"
   ]
  },
  {
   "cell_type": "code",
   "execution_count": 22,
   "id": "4c70e208",
   "metadata": {},
   "outputs": [
    {
     "data": {
      "text/plain": [
       "'Write a python program to take three names as input \\nfrom a user in the single input () function call\\n'"
      ]
     },
     "execution_count": 22,
     "metadata": {},
     "output_type": "execute_result"
    }
   ],
   "source": [
    "'''Write a python program to take three names as input \n",
    "from a user in the single input () function call\n",
    "'''"
   ]
  },
  {
   "cell_type": "code",
   "execution_count": 34,
   "id": "f03d9d09",
   "metadata": {},
   "outputs": [
    {
     "name": "stdout",
     "output_type": "stream",
     "text": [
      "enter names : Innomatics research lab\n",
      "name = Innomatics\n",
      "name = research\n",
      "name = lab\n"
     ]
    }
   ],
   "source": [
    "x=input('enter names : ')\n",
    "k=x.split()\n",
    "for i in k:\n",
    "    \n",
    "        print('name','=',i)"
   ]
  },
  {
   "cell_type": "code",
   "execution_count": 35,
   "id": "39082ae4",
   "metadata": {},
   "outputs": [
    {
     "data": {
      "text/plain": [
       "\"Write a Python program to get a string from a given \\nstring where all occurrences of its first char have been \\nchanged to '@', except the first char itself.\""
      ]
     },
     "execution_count": 35,
     "metadata": {},
     "output_type": "execute_result"
    }
   ],
   "source": [
    "'''Write a Python program to get a string from a given \n",
    "string where all occurrences of its first char have been \n",
    "changed to '@', except the first char itself.'''"
   ]
  },
  {
   "cell_type": "code",
   "execution_count": 46,
   "id": "08a63587",
   "metadata": {},
   "outputs": [
    {
     "name": "stdout",
     "output_type": "stream",
     "text": [
      "enter a string : abcbaba\n"
     ]
    },
    {
     "data": {
      "text/plain": [
       "'abcb@b@'"
      ]
     },
     "execution_count": 46,
     "metadata": {},
     "output_type": "execute_result"
    }
   ],
   "source": [
    "x=input('enter a string : ')\n",
    "v=x[0]\n",
    "k=x.replace(x[0],'@')\n",
    "k.replace(k[0],v,1)\n"
   ]
  },
  {
   "cell_type": "code",
   "execution_count": 47,
   "id": "2a23dc39",
   "metadata": {},
   "outputs": [
    {
     "data": {
      "text/plain": [
       "\"rite a Python program to add 'ing' at the end of a given \\nstring (string length should be equal to or more than 3). If \\nthe given string already ends with 'ing' then add 'ly' instead. \\nIf the string length of the given string is less than 3, leave it \\nunchanged\\n\""
      ]
     },
     "execution_count": 47,
     "metadata": {},
     "output_type": "execute_result"
    }
   ],
   "source": [
    "'''rite a Python program to add 'ing' at the end of a given \n",
    "string (string length should be equal to or more than 3). If \n",
    "the given string already ends with 'ing' then add 'ly' instead. \n",
    "If the string length of the given string is less than 3, leave it \n",
    "unchanged\n",
    "'''"
   ]
  },
  {
   "cell_type": "code",
   "execution_count": 1,
   "id": "b01db5c4",
   "metadata": {},
   "outputs": [
    {
     "name": "stdout",
     "output_type": "stream",
     "text": [
      "enter the string : sun\n",
      "sun\n"
     ]
    }
   ],
   "source": [
    "x=input('enter the string : ')\n",
    "if len(x)>=3 and x[-3:]=='ing':\n",
    "    x=x.replace('ing','ly ')\n",
    "    print(x)\n",
    "  \n",
    "else: \n",
    "  \n",
    "  print(x)"
   ]
  },
  {
   "cell_type": "code",
   "execution_count": 48,
   "id": "7615f5ff",
   "metadata": {},
   "outputs": [
    {
     "data": {
      "text/plain": [
       "'Write a python program that accepts two inputs num1 and \\nnum2 print True if one of them is 10 or if their sum is 10\\notherwise print False'"
      ]
     },
     "execution_count": 48,
     "metadata": {},
     "output_type": "execute_result"
    }
   ],
   "source": [
    "'''Write a python program that accepts two inputs num1 and \n",
    "num2 print True if one of them is 10 or if their sum is 10\n",
    "otherwise print False'''"
   ]
  },
  {
   "cell_type": "code",
   "execution_count": 52,
   "id": "30270249",
   "metadata": {},
   "outputs": [
    {
     "name": "stdout",
     "output_type": "stream",
     "text": [
      "enter first number : 8\n",
      "enter second value : 2\n",
      "True\n"
     ]
    }
   ],
   "source": [
    "num1=int(input('enter first number : '))\n",
    "num2=int(input('enter second value : '))\n",
    "if num1==10 or num2==10 or num1+num2==10:\n",
    "    print('True')\n",
    "else:\n",
    "    print('False')"
   ]
  },
  {
   "cell_type": "code",
   "execution_count": 53,
   "id": "9b57d28c",
   "metadata": {},
   "outputs": [
    {
     "data": {
      "text/plain": [
       "' Write a python program that accepts three inputs x, y and \\nz print True if x*y>z otherwise False'"
      ]
     },
     "execution_count": 53,
     "metadata": {},
     "output_type": "execute_result"
    }
   ],
   "source": [
    "''' Write a python program that accepts three inputs x, y and \n",
    "z print True if x*y>z otherwise False'''"
   ]
  },
  {
   "cell_type": "code",
   "execution_count": 55,
   "id": "f536b03b",
   "metadata": {},
   "outputs": [
    {
     "name": "stdout",
     "output_type": "stream",
     "text": [
      "enter first number : 2\n",
      "enter second value : 3\n",
      "enter Third value : 5\n",
      "True\n"
     ]
    }
   ],
   "source": [
    "num1=int(input('enter first number : '))\n",
    "num2=int(input('enter second value : '))\n",
    "num3=int(input('enter Third value : '))\n",
    "if (num1*num2)>num3:\n",
    "    print('True')\n",
    "else:\n",
    "    print('False')\n",
    "    "
   ]
  },
  {
   "cell_type": "code",
   "execution_count": 56,
   "id": "eb1ab3a3",
   "metadata": {},
   "outputs": [
    {
     "data": {
      "text/plain": [
       "' Write a python program that accepts two strings inputs \\nreturn True depending on whether the total number of \\ncharacters in the first string is equal to the total number of \\ncharacters in the second string\\n'"
      ]
     },
     "execution_count": 56,
     "metadata": {},
     "output_type": "execute_result"
    }
   ],
   "source": [
    "''' Write a python program that accepts two strings inputs \n",
    "return True depending on whether the total number of \n",
    "characters in the first string is equal to the total number of \n",
    "characters in the second string\n",
    "'''"
   ]
  },
  {
   "cell_type": "code",
   "execution_count": 58,
   "id": "b3bcd250",
   "metadata": {},
   "outputs": [
    {
     "name": "stdout",
     "output_type": "stream",
     "text": [
      "enter string one : vinay\n",
      "enter string two : gogula\n",
      "False\n"
     ]
    }
   ],
   "source": [
    "str1=input('enter string one : ')\n",
    "str2=input('enter string two : ')\n",
    "if len(str1)==len(str2):\n",
    "    print('True')\n",
    "else:\n",
    "    print('False')"
   ]
  },
  {
   "cell_type": "code",
   "execution_count": 1,
   "id": "9896f01b",
   "metadata": {},
   "outputs": [
    {
     "data": {
      "text/plain": [
       "\"Write a python program that takes a string input, we'll say \\nthat the front is the first three characters of the string. If the \\nstring length is less than three characters, the front is \\nwhatever is there. Return a new string, which is three copies \\nof the front\\n\""
      ]
     },
     "execution_count": 1,
     "metadata": {},
     "output_type": "execute_result"
    }
   ],
   "source": [
    "'''Write a python program that takes a string input, we'll say \n",
    "that the front is the first three characters of the string. If the \n",
    "string length is less than three characters, the front is \n",
    "whatever is there. Return a new string, which is three copies \n",
    "of the front\n",
    "'''"
   ]
  },
  {
   "cell_type": "code",
   "execution_count": 4,
   "id": "7a61e41a",
   "metadata": {},
   "outputs": [
    {
     "name": "stdout",
     "output_type": "stream",
     "text": [
      "enter the string : hi\n",
      "hihihi\n"
     ]
    }
   ],
   "source": [
    "x=input('enter the string : ')\n",
    "if len(x)>3:\n",
    "    print(x[0:3]*3)\n",
    "else:\n",
    "    print(x*3)"
   ]
  },
  {
   "cell_type": "code",
   "execution_count": 5,
   "id": "d93d90fa",
   "metadata": {},
   "outputs": [
    {
     "data": {
      "text/plain": [
       "'Write a python program that takes in a word and \\ndetermines whether or not it is plural. A plural word is one \\nthat ends in \"s\".'"
      ]
     },
     "execution_count": 5,
     "metadata": {},
     "output_type": "execute_result"
    }
   ],
   "source": [
    "'''Write a python program that takes in a word and \n",
    "determines whether or not it is plural. A plural word is one \n",
    "that ends in \"s\".'''"
   ]
  },
  {
   "cell_type": "code",
   "execution_count": 7,
   "id": "5187f779",
   "metadata": {},
   "outputs": [
    {
     "name": "stdout",
     "output_type": "stream",
     "text": [
      "enter the string : flowers\n",
      "The enterd string is plural\n"
     ]
    }
   ],
   "source": [
    "string=input('enter the string : ')\n",
    "if string[-1]=='s':\n",
    "    print(\"The enterd string is plural\")\n",
    "else:\n",
    "        print(\"The enterd string is not plural\")\n"
   ]
  },
  {
   "cell_type": "code",
   "execution_count": 8,
   "id": "f1a21dde",
   "metadata": {},
   "outputs": [
    {
     "data": {
      "text/plain": [
       "\" A bartender is writing a simple program to determine \\nwhether he should serve drinks to someone. He only serves \\ndrinks to people 18 and older and when he's not on break\\n(True means break and False means not a break time). Given \\nthe person's age, and whether break time is in session, create \\na python program which prints whether he should serve \\ndrinks or not.\""
      ]
     },
     "execution_count": 8,
     "metadata": {},
     "output_type": "execute_result"
    }
   ],
   "source": [
    "''' A bartender is writing a simple program to determine \n",
    "whether he should serve drinks to someone. He only serves \n",
    "drinks to people 18 and older and when he's not on break\n",
    "(True means break and False means not a break time). Given \n",
    "the person's age, and whether break time is in session, create \n",
    "a python program which prints whether he should serve \n",
    "drinks or not.'''"
   ]
  },
  {
   "cell_type": "code",
   "execution_count": 4,
   "id": "12436e51",
   "metadata": {},
   "outputs": [
    {
     "name": "stdout",
     "output_type": "stream",
     "text": [
      "enter your name : sonu\n",
      "enter your age : 38\n",
      "are in a break :Yes or No : yes\n",
      "can serve a drink to sonu\n"
     ]
    }
   ],
   "source": [
    "name=input('enter your name : ')\n",
    "Age=int(input('enter your age : '))\n",
    "breaktime=input('are in a break :Yes or No : ')\n",
    "if Age>=18 and breaktime=='yes':\n",
    "    print(\"can serve a drink to\",name)\n",
    "else:\n",
    "    print(\"can't serve a drink to\",name)"
   ]
  },
  {
   "cell_type": "code",
   "execution_count": 5,
   "id": "7f375c6d",
   "metadata": {},
   "outputs": [
    {
     "data": {
      "text/plain": [
       "' Manoj Kumar has family and friends. Help him remind \\nthem who is who. Given a string with a name, return the \\nrelation of that person to Manoj Kumar.'"
      ]
     },
     "execution_count": 5,
     "metadata": {},
     "output_type": "execute_result"
    }
   ],
   "source": [
    "''' Manoj Kumar has family and friends. Help him remind \n",
    "them who is who. Given a string with a name, return the \n",
    "relation of that person to Manoj Kumar.'''\n"
   ]
  },
  {
   "cell_type": "code",
   "execution_count": 9,
   "id": "9589787e",
   "metadata": {},
   "outputs": [
    {
     "name": "stdout",
     "output_type": "stream",
     "text": [
      "enter the name : Tarun\n",
      "Tarun is your Brother\n"
     ]
    }
   ],
   "source": [
    "x={'Shiva':'Father','Letha':'Mother',\"Tarun\":'Brother',\"Kavitha\":'Sister'}\n",
    "name=input('enter the name : ')\n",
    "if name in x:\n",
    "    print(name,'is your',x[name])"
   ]
  },
  {
   "cell_type": "code",
   "execution_count": 10,
   "id": "4936eeb6",
   "metadata": {},
   "outputs": [
    {
     "data": {
      "text/plain": [
       "\"Write a python program that takes a string, breaks it up \\nand returns it with vowels first, consonants second. For any \\ncharacter that's not a vowel (like special characters or \\nspaces), treat them like consonants\""
      ]
     },
     "execution_count": 10,
     "metadata": {},
     "output_type": "execute_result"
    }
   ],
   "source": [
    "'''Write a python program that takes a string, breaks it up \n",
    "and returns it with vowels first, consonants second. For any \n",
    "character that's not a vowel (like special characters or \n",
    "spaces), treat them like consonants'''"
   ]
  },
  {
   "cell_type": "code",
   "execution_count": 16,
   "id": "6938f15a",
   "metadata": {},
   "outputs": [
    {
     "name": "stdout",
     "output_type": "stream",
     "text": [
      "enter the name : Gogula Vinay\n",
      "ouaia\n",
      "Ggl Vny\n",
      "ouaiaGgl Vny\n"
     ]
    }
   ],
   "source": [
    "name=input('enter the name : ')\n",
    "a=''\n",
    "b=''\n",
    "for i in name:\n",
    "    if i=='a' or i=='A' or i=='e' or i=='E' or i=='i'\\\n",
    "    or i=='I' or i=='o' or i=='O' or i=='u' or i=='U':\n",
    "        a=a+i\n",
    "    else:\n",
    "        b=b+i\n",
    "print(a)\n",
    "print(b)\n",
    "print(a+b)\n",
    "\n",
    "    "
   ]
  },
  {
   "cell_type": "code",
   "execution_count": 17,
   "id": "245863fc",
   "metadata": {},
   "outputs": [
    {
     "data": {
      "text/plain": [
       "'Create a dynamic calculator which asks for numbers and \\noperator and return the answers\\n'"
      ]
     },
     "execution_count": 17,
     "metadata": {},
     "output_type": "execute_result"
    }
   ],
   "source": [
    "'''Create a dynamic calculator which asks for numbers and \n",
    "operator and return the answers\n",
    "'''"
   ]
  },
  {
   "cell_type": "code",
   "execution_count": 18,
   "id": "f4c4cf9f",
   "metadata": {},
   "outputs": [
    {
     "name": "stdout",
     "output_type": "stream",
     "text": [
      "Type first number : 10\n",
      "Type any of this (+, -, *, /, %, **) : *\n",
      "Type second number : 19\n",
      "190\n"
     ]
    }
   ],
   "source": [
    "first=int(input('Type first number : '))\n",
    "operator=input('Type any of this (+, -, *, /, %, **) : ')\n",
    "second=int(input('Type second number : '))\n",
    "if operator=='+':\n",
    "    a=first+second\n",
    "    print(a)\n",
    "elif operator=='-':\n",
    "    a=first-second\n",
    "    print(a)\n",
    "\n",
    "elif operator=='*':\n",
    "    a=first*second\n",
    "    print(a)\n",
    "\n",
    "elif operator=='/':\n",
    "    a=first/second\n",
    "    print(a)\n",
    "\n",
    "elif operator=='%':\n",
    "    a=first%second\n",
    "    print(a)\n",
    "\n",
    "elif operator=='**':\n",
    "    a=first**second\n",
    "    print(a)\n",
    "\n",
    "\n",
    "    "
   ]
  },
  {
   "cell_type": "code",
   "execution_count": null,
   "id": "92de9ceb",
   "metadata": {},
   "outputs": [],
   "source": []
  }
 ],
 "metadata": {
  "kernelspec": {
   "display_name": "Python 3 (ipykernel)",
   "language": "python",
   "name": "python3"
  },
  "language_info": {
   "codemirror_mode": {
    "name": "ipython",
    "version": 3
   },
   "file_extension": ".py",
   "mimetype": "text/x-python",
   "name": "python",
   "nbconvert_exporter": "python",
   "pygments_lexer": "ipython3",
   "version": "3.9.12"
  }
 },
 "nbformat": 4,
 "nbformat_minor": 5
}
