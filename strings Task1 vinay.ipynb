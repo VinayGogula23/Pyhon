{
 "cells": [
  {
   "cell_type": "code",
   "execution_count": null,
   "id": "33336deb",
   "metadata": {},
   "outputs": [],
   "source": [
    "#Write a python program to convert a string to lower case"
   ]
  },
  {
   "cell_type": "code",
   "execution_count": 3,
   "id": "d14e4b88",
   "metadata": {},
   "outputs": [
    {
     "data": {
      "text/plain": [
       "'vinay'"
      ]
     },
     "execution_count": 3,
     "metadata": {},
     "output_type": "execute_result"
    }
   ],
   "source": [
    "x='VINAY'\n",
    "y=x.lower()\n",
    "y"
   ]
  },
  {
   "cell_type": "code",
   "execution_count": 4,
   "id": "72635888",
   "metadata": {},
   "outputs": [
    {
     "data": {
      "text/plain": [
       "'Write a python program to convert only odd \\nindexed characters to lower case \\nEx:- PYTHON\\nOutput: - PyThOn'"
      ]
     },
     "execution_count": 4,
     "metadata": {},
     "output_type": "execute_result"
    }
   ],
   "source": [
    "'''Write a python program to convert only odd \n",
    "indexed characters to lower case \n",
    "Ex:- PYTHON\n",
    "Output: - PyThOn'''"
   ]
  },
  {
   "cell_type": "code",
   "execution_count": 19,
   "id": "20a0dbe1",
   "metadata": {},
   "outputs": [
    {
     "name": "stdout",
     "output_type": "stream",
     "text": [
      "enter the string : VINAY\n",
      "ViNaY"
     ]
    }
   ],
   "source": [
    "x=input('enter the string : ')\n",
    "for i in range(len(x)):\n",
    "    if i%2!=0:\n",
    "        print(x[i].lower(),end='')\n",
    "    else:\n",
    "        print(x[i],end='')"
   ]
  },
  {
   "cell_type": "code",
   "execution_count": null,
   "id": "c7039bfd",
   "metadata": {},
   "outputs": [],
   "source": [
    "'''Write a python program to convert only even \n",
    "indexed characters to lower case \n",
    "Ex:- PYTHON\n",
    "Output: - pYtHoN'''\n"
   ]
  },
  {
   "cell_type": "code",
   "execution_count": 21,
   "id": "1d761cdd",
   "metadata": {},
   "outputs": [
    {
     "name": "stdout",
     "output_type": "stream",
     "text": [
      "enter the string : VINAY\n",
      "vInAy"
     ]
    }
   ],
   "source": [
    "x=input('enter the string : ')\n",
    "for i in range(len(x)):\n",
    "    if i%2==0:\n",
    "        print(x[i].lower(),end='')\n",
    "    else:\n",
    "        print(x[i],end='')"
   ]
  },
  {
   "cell_type": "code",
   "execution_count": 22,
   "id": "4e6734ed",
   "metadata": {},
   "outputs": [
    {
     "data": {
      "text/plain": [
       "'Write a python program to convert only odd \\nindexed characters to upper case \\nEx:- python\\nOutput: - pYtHoN'"
      ]
     },
     "execution_count": 22,
     "metadata": {},
     "output_type": "execute_result"
    }
   ],
   "source": [
    "'''Write a python program to convert only odd \n",
    "indexed characters to upper case \n",
    "Ex:- python\n",
    "Output: - pYtHoN'''"
   ]
  },
  {
   "cell_type": "code",
   "execution_count": 24,
   "id": "9b33ba01",
   "metadata": {},
   "outputs": [
    {
     "name": "stdout",
     "output_type": "stream",
     "text": [
      "enter the string : vinay\n",
      "vInAy"
     ]
    }
   ],
   "source": [
    "x=input('enter the string : ')\n",
    "for i in range(len(x)):\n",
    "    if i%2!=0:\n",
    "        print(x[i].upper(),end='')\n",
    "    else:\n",
    "        print(x[i],end='')"
   ]
  },
  {
   "cell_type": "code",
   "execution_count": 25,
   "id": "48cf0b74",
   "metadata": {},
   "outputs": [
    {
     "data": {
      "text/plain": [
       "\"x=input('enter the string : ')\\nfor i in range(len(x)):\\n    if i%2==0:\\n        print(x[i].lower(),end='')\\n    else:\\n        print(x[i],end='')\""
      ]
     },
     "execution_count": 25,
     "metadata": {},
     "output_type": "execute_result"
    }
   ],
   "source": [
    "'''Write a python program to convert only even \n",
    "indexed characters to upper case \n",
    "Ex:- python\n",
    "Output: - PyThOn'''"
   ]
  },
  {
   "cell_type": "code",
   "execution_count": 26,
   "id": "0feb0a45",
   "metadata": {},
   "outputs": [
    {
     "name": "stdout",
     "output_type": "stream",
     "text": [
      "enter the string : vinay\n",
      "ViNaY"
     ]
    }
   ],
   "source": [
    "x=input('enter the string : ')\n",
    "for i in range(len(x)):\n",
    "    if i%2==0:\n",
    "        print(x[i].upper(),end='')\n",
    "    else:\n",
    "        print(x[i],end='')"
   ]
  },
  {
   "cell_type": "code",
   "execution_count": 27,
   "id": "d95d1a4f",
   "metadata": {},
   "outputs": [
    {
     "data": {
      "text/plain": [
       "'Write a python program where you have \\ndifferent variable which contains your name \\n,sex,age, phone no ,fathers name and mothers \\nname.And by using this variable create a '"
      ]
     },
     "execution_count": 27,
     "metadata": {},
     "output_type": "execute_result"
    }
   ],
   "source": [
    "'''Write a python program where you have \n",
    "different variable which contains your name \n",
    ",sex,age, phone no ,fathers name and mothers \n",
    "name.And by using this variable create a '''"
   ]
  },
  {
   "cell_type": "code",
   "execution_count": 28,
   "id": "37f00ace",
   "metadata": {},
   "outputs": [
    {
     "name": "stdout",
     "output_type": "stream",
     "text": [
      "enter your name : ram\n",
      "enter your gender : M\n",
      "enter your age : 55\n",
      "enter your phone number : 123456478\n",
      "enter your father name : dhasharath\n",
      "enter your mother name : kousalya\n",
      "My Name is ram, Age is 55, Phone-number is 123456478, My father name is and mother name is dhasharath\n"
     ]
    }
   ],
   "source": [
    "name=input('enter your name : ')\n",
    "Gender=input('enter your gender : ')\n",
    "Age=int(input('enter your age : '))\n",
    "ph_no=int((input('enter your phone number : ')))\n",
    "Father_name=input('enter your father name : ')\n",
    "Mother_name=input('enter your mother name : ')\n",
    "bio_data='My Name is {}, Age is {}, Phone-number is {}, My father name is and mother name is {}'.format(name,Age,ph_no,Father_name,Mother_name)\n",
    "print(bio_data)"
   ]
  },
  {
   "cell_type": "code",
   "execution_count": null,
   "id": "25a22d08",
   "metadata": {},
   "outputs": [],
   "source": [
    "#write a python program to count how many times “@” occurred "
   ]
  },
  {
   "cell_type": "code",
   "execution_count": 29,
   "id": "2c397351",
   "metadata": {},
   "outputs": [
    {
     "data": {
      "text/plain": [
       "4"
      ]
     },
     "execution_count": 29,
     "metadata": {},
     "output_type": "execute_result"
    }
   ],
   "source": [
    "x='asd@asdf@ASDF@ASD@'\n",
    "x.count('@')"
   ]
  },
  {
   "cell_type": "code",
   "execution_count": null,
   "id": "3fe96e55",
   "metadata": {},
   "outputs": [],
   "source": [
    "'''Write a python program to get only names from \n",
    "the string \n",
    "“name1.@gmail.com,name2.@gmail.com,name\n",
    "3.@gmail.com”\n",
    "Output-name1,name2,name3'''"
   ]
  },
  {
   "cell_type": "code",
   "execution_count": 30,
   "id": "d6d4d40d",
   "metadata": {},
   "outputs": [
    {
     "name": "stdout",
     "output_type": "stream",
     "text": [
      "name1 name2 name3\n"
     ]
    }
   ],
   "source": [
    "x='name1.@gmail.com,name2.@gmail.com,name3.@gmail.com'\n",
    "a=x.split(',')\n",
    "b=a[0].split('.')\n",
    "c=a[1].split('.')\n",
    "d=a[2].split('.')\n",
    "print(b[0],c[0],d[0])"
   ]
  },
  {
   "cell_type": "code",
   "execution_count": 32,
   "id": "50b0bdaf",
   "metadata": {},
   "outputs": [
    {
     "data": {
      "text/plain": [
       "'Given a string of odd length greater that 9, \\nreturn a new string made of the middle three \\ncharacters of a given String\\nEx:- “mynameissan\\nOutput:- “mei”'"
      ]
     },
     "execution_count": 32,
     "metadata": {},
     "output_type": "execute_result"
    }
   ],
   "source": [
    "'''Given a string of odd length greater that 9, \n",
    "return a new string made of the middle three \n",
    "characters of a given String\n",
    "Ex:- “mynameissan\n",
    "Output:- “mei”'''\n"
   ]
  },
  {
   "cell_type": "code",
   "execution_count": 41,
   "id": "3cdd1f1d",
   "metadata": {},
   "outputs": [
    {
     "name": "stdout",
     "output_type": "stream",
     "text": [
      "enter a string : mynameissan\n",
      "4 5.5 6\n",
      "mei\n"
     ]
    }
   ],
   "source": [
    "x=input('enter a string : ')\n",
    "l=len(x)\n",
    "if l>9:\n",
    "    if l%2==0:\n",
    "        print('bye')\n",
    "    else:\n",
    "        h=l/2\n",
    "        b=int(h-1)\n",
    "        a=int(h+1)\n",
    "        print(b,h,a)\n",
    "        print(x[b:a+1])"
   ]
  },
  {
   "cell_type": "code",
   "execution_count": 42,
   "id": "1c227a49",
   "metadata": {},
   "outputs": [
    {
     "data": {
      "text/plain": [
       "'Write a python program to insert a 2 string \\nin the middle of 1 string\\nEx:-Str1=”myn”\\n Str2=”sa”\\nOutput:-“msayn”\\n'"
      ]
     },
     "execution_count": 42,
     "metadata": {},
     "output_type": "execute_result"
    }
   ],
   "source": [
    "'''Write a python program to insert a 2 string \n",
    "in the middle of 1 string\n",
    "Ex:-Str1=”myn”\n",
    " Str2=”sa”\n",
    "Output:-“msayn”\n",
    "'''"
   ]
  },
  {
   "cell_type": "code",
   "execution_count": 44,
   "id": "8e6b9020",
   "metadata": {},
   "outputs": [
    {
     "name": "stdout",
     "output_type": "stream",
     "text": [
      "enter first string : riyaz\n",
      "enter Second string : vinay\n"
     ]
    },
    {
     "data": {
      "text/plain": [
       "'rivinayyaz'"
      ]
     },
     "execution_count": 44,
     "metadata": {},
     "output_type": "execute_result"
    }
   ],
   "source": [
    "x=input('enter first string : ')\n",
    "y=input('enter Second string : ')\n",
    "z=len(x)\n",
    "a=int(z/2)\n",
    "b=int(a+1)\n",
    "x[0:a]+y+x[a:]"
   ]
  },
  {
   "cell_type": "code",
   "execution_count": 45,
   "id": "0e452a69",
   "metadata": {},
   "outputs": [
    {
     "data": {
      "text/plain": [
       "'Write a program to remove vowels from \\nthe entire alphabets \\nEx:- “abcdefghijklmnopqrstuvwxyz”\\nOutput:- “bcdfghjklmnpqrstvwxyz”'"
      ]
     },
     "execution_count": 45,
     "metadata": {},
     "output_type": "execute_result"
    }
   ],
   "source": [
    "'''Write a program to remove vowels from \n",
    "the entire alphabets \n",
    "Ex:- “abcdefghijklmnopqrstuvwxyz”\n",
    "Output:- “bcdfghjklmnpqrstvwxyz”'''"
   ]
  },
  {
   "cell_type": "code",
   "execution_count": 6,
   "id": "1e859478",
   "metadata": {},
   "outputs": [
    {
     "name": "stdout",
     "output_type": "stream",
     "text": [
      "enter the string : abcdefghijklmnopqrstuvwxyz\n",
      "bcdfghjklmnpqrstvwxyz"
     ]
    }
   ],
   "source": [
    "x=input('enter the string : ')\n",
    "v=''\n",
    "c=''\n",
    "for i in x:\n",
    "    \n",
    "    if i=='A' or i=='a' or i=='E' or i=='e' or i=='I' or i=='i' or i=='O' or i=='o' or i=='U' or i=='u':\n",
    "        c=c+i\n",
    "    else:\n",
    "        v=v+i\n",
    "print(v,end='')"
   ]
  },
  {
   "cell_type": "code",
   "execution_count": null,
   "id": "c913f2f5",
   "metadata": {},
   "outputs": [],
   "source": []
  }
 ],
 "metadata": {
  "kernelspec": {
   "display_name": "Python 3 (ipykernel)",
   "language": "python",
   "name": "python3"
  },
  "language_info": {
   "codemirror_mode": {
    "name": "ipython",
    "version": 3
   },
   "file_extension": ".py",
   "mimetype": "text/x-python",
   "name": "python",
   "nbconvert_exporter": "python",
   "pygments_lexer": "ipython3",
   "version": "3.9.12"
  }
 },
 "nbformat": 4,
 "nbformat_minor": 5
}
