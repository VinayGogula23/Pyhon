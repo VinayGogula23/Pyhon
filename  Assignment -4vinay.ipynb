{
 "cells": [
  {
   "cell_type": "code",
   "execution_count": null,
   "id": "7128bc68",
   "metadata": {},
   "outputs": [],
   "source": [
    "'''Write a Python program to loop through all the elements in a list\n",
    "Ex: \n",
    "Input: [1,2,3,4,5,6]\n",
    "Output: \n",
    "1\n",
    "2\n",
    "3\n",
    "4\n",
    "5\n",
    "6\n",
    "'''"
   ]
  },
  {
   "cell_type": "code",
   "execution_count": 1,
   "id": "6049f17b",
   "metadata": {},
   "outputs": [
    {
     "name": "stdout",
     "output_type": "stream",
     "text": [
      "1\n",
      "2\n",
      "3\n",
      "4\n",
      "5\n",
      "6\n"
     ]
    }
   ],
   "source": [
    "x=[1,2,3,4,5,6]\n",
    "for i in x:\n",
    "    print(i)"
   ]
  },
  {
   "cell_type": "code",
   "execution_count": null,
   "id": "74f95ece",
   "metadata": {},
   "outputs": [],
   "source": [
    "''' Write a Python program where you will ask the users to insert elements in a list'''"
   ]
  },
  {
   "cell_type": "code",
   "execution_count": 4,
   "id": "87770b44",
   "metadata": {},
   "outputs": [
    {
     "name": "stdout",
     "output_type": "stream",
     "text": [
      "Enter family members separated by comma Vinay,vamsi,varma,vivek,vihas,varun,vikram,vipul\n",
      "['Vinay', 'vamsi', 'varma', 'vivek', 'vihas', 'varun', 'vikram', 'vipul']\n"
     ]
    }
   ],
   "source": [
    "x= input(\"Enter family members separated by comma \")\n",
    "y= x.split(\",\")\n",
    "print(y)"
   ]
  },
  {
   "cell_type": "code",
   "execution_count": null,
   "id": "297ef850",
   "metadata": {},
   "outputs": [],
   "source": [
    "'''Write a Python program to remove all the odd index value from a list and only even \n",
    "index elements should remain'''\n",
    "'''Input: [1,2,3,4,5,6,7,”a”]\n",
    "Output: [1,3,5,7]'''"
   ]
  },
  {
   "cell_type": "code",
   "execution_count": 21,
   "id": "70127b8e",
   "metadata": {},
   "outputs": [
    {
     "name": "stdout",
     "output_type": "stream",
     "text": [
      "[1, 3, 5, 'a']\n"
     ]
    }
   ],
   "source": [
    "x=[1,2,3,4,5,6,'a']\n",
    "k=[]\n",
    "for i in range(len(x)):\n",
    "    if i%2!=0:\n",
    "        pass\n",
    "    else: k.append(x[i])\n",
    "print(k)"
   ]
  },
  {
   "cell_type": "code",
   "execution_count": null,
   "id": "3cd49aa2",
   "metadata": {},
   "outputs": [],
   "source": [
    "'''Write a Python program to sum and multiply all the items in a list\n",
    "Ex:\n",
    "Input: [1,2,3,4]\n",
    "Output: sum: -10\n",
    " Product: -24'''"
   ]
  },
  {
   "cell_type": "code",
   "execution_count": 29,
   "id": "9a12460a",
   "metadata": {},
   "outputs": [
    {
     "name": "stdout",
     "output_type": "stream",
     "text": [
      "sum= 10   product= 24\n"
     ]
    }
   ],
   "source": [
    "x= [1,2,3,4]\n",
    "s=0\n",
    "p=1\n",
    "for i in x:\n",
    "    s=s+i\n",
    "    p=p*i\n",
    "print('sum=',s ,' ', 'product=',p)\n"
   ]
  },
  {
   "cell_type": "code",
   "execution_count": 30,
   "id": "0f0569ca",
   "metadata": {},
   "outputs": [
    {
     "data": {
      "text/plain": [
       "'Write a Python program to get the maximum and minimum numbers from a list\\nEx:\\nInput: [8,4,11,7,90]\\nOutput: max: - 90\\n Min: - 4'"
      ]
     },
     "execution_count": 30,
     "metadata": {},
     "output_type": "execute_result"
    }
   ],
   "source": [
    "'''Write a Python program to get the maximum and minimum numbers from a list\n",
    "Ex:\n",
    "Input: [8,4,11,7,90]\n",
    "Output: max: - 90\n",
    " Min: - 4'''"
   ]
  },
  {
   "cell_type": "code",
   "execution_count": 38,
   "id": "a617a28b",
   "metadata": {},
   "outputs": [
    {
     "name": "stdout",
     "output_type": "stream",
     "text": [
      "Max:-  90\n",
      "Min:-  4\n"
     ]
    }
   ],
   "source": [
    "x=[8,4,11,7,90]\n",
    "y=set(x)\n",
    "z=list(y)\n",
    "print('Max:- ',z[-1])\n",
    "print('Min:- ',z[0])"
   ]
  },
  {
   "cell_type": "code",
   "execution_count": null,
   "id": "ec0f6bee",
   "metadata": {},
   "outputs": [],
   "source": [
    "'''Write a Python program to print a specified list after removing the 0th, 4th and 5th \n",
    "elements.\n",
    "Ex:\n",
    "Input: ['Red', 'Green', 'White', 'Black', 'Pink', 'Yellow']\n",
    "Output: ['Green', 'White', 'Black']'''"
   ]
  },
  {
   "cell_type": "code",
   "execution_count": 6,
   "id": "0abf378d",
   "metadata": {},
   "outputs": [
    {
     "data": {
      "text/plain": [
       "['Green', 'White', 'Black']"
      ]
     },
     "execution_count": 6,
     "metadata": {},
     "output_type": "execute_result"
    }
   ],
   "source": [
    "x=['Red', 'Green', 'White', 'Black', 'Pink', 'Yellow']\n",
    "del x[x.index('Red')]\n",
    "del x[x.index('Pink')]\n",
    "del x[x.index('Yellow')]\n",
    "x\n"
   ]
  },
  {
   "cell_type": "code",
   "execution_count": 13,
   "id": "a70d417c",
   "metadata": {},
   "outputs": [],
   "source": [
    "x=['Red', 'Green', 'White', 'Black', 'Pink', 'Yellow']\n",
    "def ind(*a):\n",
    "    b=[]\n",
    "    for i in a:\n",
    "        b.append(x[i])\n",
    "    for j in b:\n",
    "        del x[x.index(j)]\n",
    "    print(x)\n",
    "    "
   ]
  },
  {
   "cell_type": "code",
   "execution_count": 14,
   "id": "abeaafbb",
   "metadata": {},
   "outputs": [
    {
     "name": "stdout",
     "output_type": "stream",
     "text": [
      "['Green', 'White', 'Black']\n"
     ]
    }
   ],
   "source": [
    "ind(0,4,5)"
   ]
  },
  {
   "cell_type": "code",
   "execution_count": null,
   "id": "f46d5421",
   "metadata": {},
   "outputs": [],
   "source": []
  },
  {
   "cell_type": "code",
   "execution_count": null,
   "id": "1ba42199",
   "metadata": {},
   "outputs": [],
   "source": []
  },
  {
   "cell_type": "code",
   "execution_count": 3,
   "id": "22e1f15d",
   "metadata": {},
   "outputs": [
    {
     "data": {
      "text/plain": [
       "'India'"
      ]
     },
     "execution_count": 3,
     "metadata": {},
     "output_type": "execute_result"
    }
   ],
   "source": [
    "'''Write a Python program to convert a list of characters into a string'''\n",
    "x=['I','n','d','i','a']\n",
    "\"\".join(x)"
   ]
  },
  {
   "cell_type": "code",
   "execution_count": 4,
   "id": "e2dc8576",
   "metadata": {},
   "outputs": [
    {
     "data": {
      "text/plain": [
       "'Write a Python program to compute average of given lists.'"
      ]
     },
     "execution_count": 4,
     "metadata": {},
     "output_type": "execute_result"
    }
   ],
   "source": [
    "'''Write a Python program to compute average of given lists.'''\n"
   ]
  },
  {
   "cell_type": "code",
   "execution_count": 4,
   "id": "c607eba7",
   "metadata": {},
   "outputs": [
    {
     "name": "stdout",
     "output_type": "stream",
     "text": [
      "3.0\n"
     ]
    }
   ],
   "source": [
    "x=[1,2,3,4,5]\n",
    "k=len(x)\n",
    "c=0\n",
    "for i in x:\n",
    "    c=c+i\n",
    "print(c/k)"
   ]
  },
  {
   "cell_type": "code",
   "execution_count": null,
   "id": "40790e5b",
   "metadata": {},
   "outputs": [],
   "source": [
    "'''Write a Python program to count integer in a given mixed list.'''"
   ]
  },
  {
   "cell_type": "code",
   "execution_count": 20,
   "id": "5905a78a",
   "metadata": {},
   "outputs": [
    {
     "name": "stdout",
     "output_type": "stream",
     "text": [
      "4\n"
     ]
    }
   ],
   "source": [
    "x=['a',1,3,6,5,'t','@'];c=0\n",
    "for i in x:\n",
    "    if str(i).isdigit():\n",
    "        c=c+1\n",
    "print(c)"
   ]
  },
  {
   "cell_type": "code",
   "execution_count": null,
   "id": "66f1eb30",
   "metadata": {},
   "outputs": [],
   "source": [
    "'''Write a Python program to reverse the list'''"
   ]
  },
  {
   "cell_type": "code",
   "execution_count": 23,
   "id": "36de8e32",
   "metadata": {},
   "outputs": [
    {
     "data": {
      "text/plain": [
       "[9, 8, 7, 6, 5, 4, 3, 2, 1]"
      ]
     },
     "execution_count": 23,
     "metadata": {},
     "output_type": "execute_result"
    }
   ],
   "source": [
    "x=[1,2,3,4,5,6,7,8,9]\n",
    "x.reverse()\n",
    "x"
   ]
  },
  {
   "cell_type": "code",
   "execution_count": null,
   "id": "e47d4b7d",
   "metadata": {},
   "outputs": [],
   "source": [
    "''' Write a Python program convert a given string to a tuple\n",
    "Ex:\n",
    "Input: “python1.2”\n",
    "Output: (“p”,” y”,”t”,”h”,” o”,” n”,”1”,”.”,”2”)'''"
   ]
  },
  {
   "cell_type": "code",
   "execution_count": 24,
   "id": "c28eadf3",
   "metadata": {},
   "outputs": [
    {
     "data": {
      "text/plain": [
       "('p', 'y', 't', 'h', 'o', 'n', '1', '.', '2')"
      ]
     },
     "execution_count": 24,
     "metadata": {},
     "output_type": "execute_result"
    }
   ],
   "source": [
    "x='python1.2'\n",
    "y=tuple(x)\n",
    "y"
   ]
  },
  {
   "cell_type": "code",
   "execution_count": null,
   "id": "3bb6ee16",
   "metadata": {},
   "outputs": [],
   "source": []
  }
 ],
 "metadata": {
  "kernelspec": {
   "display_name": "Python 3 (ipykernel)",
   "language": "python",
   "name": "python3"
  },
  "language_info": {
   "codemirror_mode": {
    "name": "ipython",
    "version": 3
   },
   "file_extension": ".py",
   "mimetype": "text/x-python",
   "name": "python",
   "nbconvert_exporter": "python",
   "pygments_lexer": "ipython3",
   "version": "3.9.12"
  }
 },
 "nbformat": 4,
 "nbformat_minor": 5
}
