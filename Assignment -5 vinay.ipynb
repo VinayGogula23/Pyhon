{
 "cells": [
  {
   "cell_type": "code",
   "execution_count": 1,
   "id": "f1cf5caa",
   "metadata": {},
   "outputs": [
    {
     "data": {
      "text/plain": [
       "'Given a list of numbers, write a python program that returns a new list which Has all \\nduplicate elements removed. And is sorted in an increasing order.\\n Ex:\\nInput:\\n[2,1,3,4,2,3,3,2,7,9,8,7]\\nOutput:\\n[1,2,3,4,7,8,9]'"
      ]
     },
     "execution_count": 1,
     "metadata": {},
     "output_type": "execute_result"
    }
   ],
   "source": [
    "'''Given a list of numbers, write a python program that returns a new list which Has all \n",
    "duplicate elements removed. And is sorted in an increasing order.\n",
    " Ex:\n",
    "Input:\n",
    "[2,1,3,4,2,3,3,2,7,9,8,7]\n",
    "Output:\n",
    "[1,2,3,4,7,8,9]'''"
   ]
  },
  {
   "cell_type": "code",
   "execution_count": 6,
   "id": "9fbd7d19",
   "metadata": {},
   "outputs": [
    {
     "data": {
      "text/plain": [
       "[1, 2, 3, 4, 7, 8, 9]"
      ]
     },
     "execution_count": 6,
     "metadata": {},
     "output_type": "execute_result"
    }
   ],
   "source": [
    "x=[2,1,3,4,2,3,3,2,7,9,8,7]\n",
    "k=set(x)\n",
    "x=list(k)\n",
    "x"
   ]
  },
  {
   "cell_type": "code",
   "execution_count": 7,
   "id": "9548d976",
   "metadata": {},
   "outputs": [
    {
     "data": {
      "text/plain": [
       "'Write a Python program where you will iterate over both keys and values in \\ndictionaries\\n'"
      ]
     },
     "execution_count": 7,
     "metadata": {},
     "output_type": "execute_result"
    }
   ],
   "source": [
    "'''Write a Python program where you will iterate over both keys and values in \n",
    "dictionaries\n",
    "'''"
   ]
  },
  {
   "cell_type": "code",
   "execution_count": 20,
   "id": "92dc7f43",
   "metadata": {},
   "outputs": [
    {
     "name": "stdout",
     "output_type": "stream",
     "text": [
      "dict_keys(['brand', 'model', 'year'])\n",
      "dict_values(['Ford', 'Mustang', 1964])\n",
      "dict_items([('brand', 'Ford'), ('model', 'Mustang'), ('year', 1964)])\n"
     ]
    }
   ],
   "source": [
    "x = {\"brand\": \"Ford\",\"model\": \"Mustang\",\"year\": 1964}\n",
    "print(x.keys())\n",
    "print(x.values())\n",
    "print(x.items())"
   ]
  },
  {
   "cell_type": "code",
   "execution_count": null,
   "id": "38e91e89",
   "metadata": {},
   "outputs": [],
   "source": [
    "'''Write a Python program that takes a dictionary of student names and returns a list of \n",
    "student names in alphabetical order\n",
    "Ex:\n",
    "Input: \n",
    "{“Student 1”: \"Tarun\", \"Student 2”: \"Manoj\", \"Student 3”: \"Gephi”}\n",
    "Output:\n",
    " [“Gephi”,” Manoj”,” Tarun”]'''"
   ]
  },
  {
   "cell_type": "code",
   "execution_count": 7,
   "id": "b04c67b7",
   "metadata": {},
   "outputs": [
    {
     "name": "stdout",
     "output_type": "stream",
     "text": [
      "enter the number of element :3\n",
      "enter the key:Student 1\n",
      "enter the values:Tarun\n",
      "enter the key:Student 2\n",
      "enter the values:Manoj\n",
      "enter the key:st3\n",
      "enter the values:vin\n"
     ]
    },
    {
     "data": {
      "text/plain": [
       "['Manoj', 'Tarun', 'vin']"
      ]
     },
     "execution_count": 7,
     "metadata": {},
     "output_type": "execute_result"
    }
   ],
   "source": [
    "n=int(input('enter the number of items :'))\n",
    "x={}\n",
    "for i in range(n):\n",
    "    a=input('enter the key:')\n",
    "    b=input('enter the values:')\n",
    "    x.update({a:b})\n",
    "l=[]\n",
    "for i,j in x.items():\n",
    "    l.append(j)\n",
    "l.sort()\n",
    "l"
   ]
  },
  {
   "cell_type": "code",
   "execution_count": 8,
   "id": "cd07865b",
   "metadata": {},
   "outputs": [
    {
     "data": {
      "text/plain": [
       "'. Write a Python which returns a new list of Booleans, from a given number. Iterating \\nthrough the number one digit at a time, append True if the digit is 1 and False if it is 0.\\nEx:\\nInput: “01001”\\nOutput: [“False”, “True”, “False”,” False”,” True”]'"
      ]
     },
     "execution_count": 8,
     "metadata": {},
     "output_type": "execute_result"
    }
   ],
   "source": [
    "'''. Write a Python which returns a new list of Booleans, from a given number. Iterating \n",
    "through the number one digit at a time, append True if the digit is 1 and False if it is 0.\n",
    "Ex:\n",
    "Input: “01001”\n",
    "Output: [“False”, “True”, “False”,” False”,” True”]'''"
   ]
  },
  {
   "cell_type": "code",
   "execution_count": 3,
   "id": "c51903b9",
   "metadata": {},
   "outputs": [
    {
     "name": "stdout",
     "output_type": "stream",
     "text": [
      "enter the Boolen Value in 101010\n",
      "['True', 'False', 'True', 'False', 'True', 'False']\n"
     ]
    }
   ],
   "source": [
    "x=input('enter the Boolen Value in ')\n",
    "k=[]\n",
    "for i in x:\n",
    "    if i=='0':\n",
    "        k.append('False')\n",
    "    else: k.append('True')\n",
    "print(k)"
   ]
  },
  {
   "cell_type": "code",
   "execution_count": null,
   "id": "086e2149",
   "metadata": {},
   "outputs": [],
   "source": [
    "'''Write a Python program where you will return a dictionary where the keys will be the \n",
    "character and the values will be the occurrence of the character in the string, and it \n",
    "should for any string inputs (dynamic)\n",
    "Ex:\n",
    "Input: “my name is ame”\n",
    "Output: {“m”:3,” y”:1,” n”:1,” a”:2,” e”:2,” i”:1,” s”:1}'''"
   ]
  },
  {
   "cell_type": "code",
   "execution_count": 12,
   "id": "9de5e2af",
   "metadata": {},
   "outputs": [
    {
     "name": "stdout",
     "output_type": "stream",
     "text": [
      "enter the strint : my name is ame\n",
      "{'s': 1, 'a': 2, 'e': 2, 'i': 1, 'n': 1, 'y': 1, 'm': 3}\n"
     ]
    }
   ],
   "source": [
    "x=input('enter the strint : ')\n",
    "a=list(x)\n",
    "b=set(a)\n",
    "c=list(b)\n",
    "d={}\n",
    "for i in b:\n",
    "    if i==' ': continue\n",
    "    cou=0\n",
    "    for j in a:\n",
    "        if i==j:\n",
    "            cou=cou+1\n",
    "            d.update({i:cou})\n",
    "print(d)"
   ]
  },
  {
   "cell_type": "code",
   "execution_count": null,
   "id": "c1b56035",
   "metadata": {},
   "outputs": [],
   "source": [
    "'''Given a dictionary containing the names and ages of a group of people, return the \n",
    "name of the oldest person\n",
    "Ex:\n",
    "Input: {\"Tmma\": 41, \"Ackes\": 45, \"myna\": 15, \"Benthon\": 29}\n",
    "Output: “Ackes”'''"
   ]
  },
  {
   "cell_type": "code",
   "execution_count": 14,
   "id": "986332a3",
   "metadata": {},
   "outputs": [
    {
     "name": "stdout",
     "output_type": "stream",
     "text": [
      "enter the number of items :3\n",
      "enter the key:vinay\n",
      "enter the values:23\n",
      "enter the key:vamsi\n",
      "enter the values:24\n",
      "enter the key:ashish\n",
      "enter the values:40\n",
      "the oldest person in the Dict is :  ashish\n"
     ]
    }
   ],
   "source": [
    "n=int(input('enter the number of items :'))\n",
    "x={}\n",
    "for i in range(n):\n",
    "    a=input('enter the key:')\n",
    "    b=input('enter the values:')\n",
    "    x.update({a:b})\n",
    "l=[]\n",
    "for i in x.values():\n",
    "    l.append(i)\n",
    "l.sort()\n",
    "g=l[-1]\n",
    "for i,j in x.items():\n",
    "    if j==g:\n",
    "        print(\"the oldest person in the Dict is : \",i)\n",
    "\n",
    "    "
   ]
  },
  {
   "cell_type": "code",
   "execution_count": 15,
   "id": "eeb1dd80",
   "metadata": {},
   "outputs": [
    {
     "name": "stdout",
     "output_type": "stream",
     "text": [
      "enter the number of items :3\n",
      "enter the key:a\n",
      "enter the values:6\n",
      "enter the key:s\n",
      "enter the values:9\n",
      "enter the key:c\n",
      "enter the values:3\n",
      "the oldest person in the Dict is :  s\n"
     ]
    }
   ],
   "source": [
    "n=int(input('enter the number of items :'))\n",
    "x={}\n",
    "l=[]\n",
    "for i in range(n):\n",
    "    a=input('enter the key:')\n",
    "    b=input('enter the values:')\n",
    "    x.update({a:b})\n",
    "    l.append(b)\n",
    "l.sort()\n",
    "g=l[-1]\n",
    "for i,j in x.items():\n",
    "    if j==g:\n",
    "        print(\"the oldest person in the Dict is : \",i)"
   ]
  },
  {
   "cell_type": "code",
   "execution_count": 1,
   "id": "359139ab",
   "metadata": {},
   "outputs": [
    {
     "data": {
      "text/plain": [
       "'Write a Python program to create a Rock, Paper, Scissor game, use two inputs for two \\nplayers:\\nConditions: -Rock beats Scissors, Scissors beats Paper, Paper beats Rock'"
      ]
     },
     "execution_count": 1,
     "metadata": {},
     "output_type": "execute_result"
    }
   ],
   "source": [
    "'''Write a Python program to create a Rock, Paper, Scissor game, use two inputs for two \n",
    "players:\n",
    "Conditions: -Rock beats Scissors, Scissors beats Paper, Paper beats Rock'''"
   ]
  },
  {
   "cell_type": "code",
   "execution_count": 2,
   "id": "c84245c2",
   "metadata": {},
   "outputs": [
    {
     "name": "stdout",
     "output_type": "stream",
     "text": [
      "select the first value from r,p,s : r\n",
      "select the second value from r,p,s : p\n",
      "r wins\n"
     ]
    }
   ],
   "source": [
    "x=input(('select the first value from r,p,s : ')) # r=rock, p=paper, s=scissor\n",
    "y=input(('select the second value from r,p,s : '))\n",
    "if x=='r' and y=='p':\n",
    "    print('r wins')\n",
    "elif x==y:\n",
    "    print('tie')\n",
    "elif x=='r' and y=='s':\n",
    "    print('r wins')\n",
    "elif x=='p' and y=='r':\n",
    "    print('r wins')\n",
    "elif x=='p' and y=='s':\n",
    "    print('s wins')\n",
    "elif x=='s' and y=='r':\n",
    "    print('r wins')\n",
    "elif x=='s' and y=='p':\n",
    "    print('s wins')"
   ]
  },
  {
   "cell_type": "code",
   "execution_count": null,
   "id": "c0acf028",
   "metadata": {},
   "outputs": [],
   "source": [
    "'''Create a program that returns a list of items that you can afford in the store with the \n",
    "money you have in your wallet. Create a dictionary with items as key and price as \n",
    "values\n",
    "Ex:\n",
    "Input: \n",
    "{“water bottles”: “20”,” chips”:10,” Iphone”;49000“,” towel”:90,” pens”:58,” cake”;400}\n",
    "Your wallet balance: -50\n",
    "Output: [“water bottles”, “chips”]'''"
   ]
  },
  {
   "cell_type": "code",
   "execution_count": 6,
   "id": "6b8d6cb2",
   "metadata": {},
   "outputs": [
    {
     "name": "stdout",
     "output_type": "stream",
     "text": [
      "enter the number of items :6\n",
      "enter the key:water bottles\n",
      "enter the values:20\n",
      "enter the key:chips\n",
      "enter the values:10\n",
      "enter the key:Iphone\n",
      "enter the values:49000\n",
      "enter the key:towel\n",
      "enter the values:90\n",
      "enter the key:pens\n",
      "enter the values:58\n",
      "enter the key:cake\n",
      "enter the values:400\n",
      "enter Your wallet balance:  50\n",
      "['water bottles', 'chips']\n"
     ]
    }
   ],
   "source": [
    "n=int(input('enter the number of items :'))\n",
    "x={}\n",
    "for m in range(n):\n",
    "    a=input('enter the key:')\n",
    "    b=input('enter the values:')\n",
    "    x.update({a:b})\n",
    "balance=int(input('enter Your wallet balance:  '))\n",
    "l=[]\n",
    "for i,j in x.items():\n",
    "    if balance>=int(j):\n",
    "        l.append(i)\n",
    "print(l)\n",
    "\n",
    "\n",
    "   "
   ]
  },
  {
   "cell_type": "code",
   "execution_count": 7,
   "id": "8457fe09",
   "metadata": {},
   "outputs": [
    {
     "data": {
      "text/plain": [
       "'Write a Python program to create a union of sets'"
      ]
     },
     "execution_count": 7,
     "metadata": {},
     "output_type": "execute_result"
    }
   ],
   "source": [
    "'''Write a Python program to create a union of sets'''"
   ]
  },
  {
   "cell_type": "code",
   "execution_count": 10,
   "id": "a35f5972",
   "metadata": {},
   "outputs": [
    {
     "name": "stdout",
     "output_type": "stream",
     "text": [
      "enter no.of values to be added into a set1 : 5\n",
      "enter no.of values to be added into a set2 : 5\n",
      "set1 :1\n",
      "set1 :2\n",
      "set1 :3\n",
      "set1 :4\n",
      "set1 :5\n",
      "set1 :6\n",
      "set1 :7\n",
      "set1 :8\n",
      "set1 :9\n",
      "set1 :10\n",
      "{1, 2, 3, 4, 5}\n",
      "{6, 7, 8, 9, 10}\n"
     ]
    },
    {
     "data": {
      "text/plain": [
       "{1, 2, 3, 4, 5, 6, 7, 8, 9, 10}"
      ]
     },
     "execution_count": 10,
     "metadata": {},
     "output_type": "execute_result"
    }
   ],
   "source": [
    "n1=int(input('enter no.of values to be added into a set1 : '))\n",
    "n2=int(input('enter no.of values to be added into a set2 : '))\n",
    "s1=[]\n",
    "s2=[]\n",
    "for i in range(n1):\n",
    "    a=int(input('set1 :'))\n",
    "    s1.append(a)\n",
    "for j in range(n2):\n",
    "    b=int(input('set1 :'))\n",
    "    s2.append(b)\n",
    "print(set(s1))\n",
    "print(set(s2))\n",
    "set(s1).union(set(s2))\n"
   ]
  },
  {
   "cell_type": "code",
   "execution_count": null,
   "id": "af92e4fb",
   "metadata": {},
   "outputs": [],
   "source": [
    "'''Write a Python program to check if a given value is present in a set or not'''\n"
   ]
  },
  {
   "cell_type": "code",
   "execution_count": 12,
   "id": "c7b42b26",
   "metadata": {},
   "outputs": [
    {
     "name": "stdout",
     "output_type": "stream",
     "text": [
      "enter no.of values to be added into a set1 : 5\n",
      "enter the value to be checked : 6\n",
      "set1 :5\n",
      "set1 :4\n",
      "set1 :3\n",
      "set1 :2\n",
      "set1 :1\n"
     ]
    },
    {
     "data": {
      "text/plain": [
       "False"
      ]
     },
     "execution_count": 12,
     "metadata": {},
     "output_type": "execute_result"
    }
   ],
   "source": [
    "n1=int(input('enter no.of values to be added into a set1 : '))\n",
    "k=input('enter the value to be checked : ')\n",
    "s1=[]\n",
    "for i in range(n1):\n",
    "    a=int(input('set1 :'))\n",
    "    s1.append(a)\n",
    "s2=set(s1)\n",
    "k in s2"
   ]
  },
  {
   "cell_type": "code",
   "execution_count": null,
   "id": "43b1de32",
   "metadata": {},
   "outputs": [],
   "source": [
    "'''Write a Python program to find the occurrences of 3 most common words in a \n",
    "given text. And make it as a dictionaries\n",
    "Ex:\n",
    "Input:\n",
    "” Cat dog dog cat horse dog dog mouse horse dog mouse tiger lion tiger \n",
    "cat mouse snail”\n",
    "Output: (“dog”:5,”cat”:3,” mouse”;3)\n",
    "'''"
   ]
  },
  {
   "cell_type": "code",
   "execution_count": 18,
   "id": "6d302d31",
   "metadata": {},
   "outputs": [
    {
     "name": "stdout",
     "output_type": "stream",
     "text": [
      "{'cat': 3, 'dog': 5, 'mouse': 3}\n"
     ]
    }
   ],
   "source": [
    "x='cat dog dog cat horse dog dog mouse horse dog mouse tiger lion tiger cat mouse snail'\n",
    "a=set(x.split())\n",
    "b=list(a)\n",
    "d1={}\n",
    "d2={}\n",
    "for i in b:\n",
    "    d1.update({i:x.count(i)})\n",
    "for i,j in d1.items():\n",
    "    if j>=3:\n",
    "        d2.update({i:j})\n",
    "print(d2)\n",
    "        "
   ]
  },
  {
   "cell_type": "code",
   "execution_count": null,
   "id": "52749508",
   "metadata": {},
   "outputs": [],
   "source": [
    "'''Write a Python program that accepts name of given subject and mark, and \n",
    "make subjects as keys in dictionaries and marks as values and print the final\n",
    "dictionary with subjects and marks\n",
    "'''"
   ]
  },
  {
   "cell_type": "code",
   "execution_count": 2,
   "id": "457d0c4e",
   "metadata": {},
   "outputs": [
    {
     "name": "stdout",
     "output_type": "stream",
     "text": [
      "enter the number of subjects :5\n",
      "enter the subjet name:eng\n",
      "enter the marks :100\n",
      "enter the subjet name:tel\n",
      "enter the marks :98\n",
      "enter the subjet name:hin\n",
      "enter the marks :99\n",
      "enter the subjet name:mat\n",
      "enter the marks :95\n",
      "enter the subjet name:kana\n",
      "enter the marks :96\n",
      "{'eng': '100', 'tel': '98', 'hin': '99', 'mat': '95', 'kana': '96'}\n"
     ]
    }
   ],
   "source": [
    "n=int(input('enter the number of subjects :'))\n",
    "x={}\n",
    "for m in range(n):\n",
    "    a=input('enter the subjet name:')\n",
    "    b=input('enter the marks :')\n",
    "    x.update({a:b})\n",
    "    \n",
    "print(x)"
   ]
  },
  {
   "cell_type": "code",
   "execution_count": null,
   "id": "612d563f",
   "metadata": {},
   "outputs": [],
   "source": []
  }
 ],
 "metadata": {
  "kernelspec": {
   "display_name": "Python 3 (ipykernel)",
   "language": "python",
   "name": "python3"
  },
  "language_info": {
   "codemirror_mode": {
    "name": "ipython",
    "version": 3
   },
   "file_extension": ".py",
   "mimetype": "text/x-python",
   "name": "python",
   "nbconvert_exporter": "python",
   "pygments_lexer": "ipython3",
   "version": "3.9.12"
  }
 },
 "nbformat": 4,
 "nbformat_minor": 5
}
