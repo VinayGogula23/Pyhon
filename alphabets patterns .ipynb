{
 "cells": [
  {
   "cell_type": "code",
   "execution_count": null,
   "id": "a589663e",
   "metadata": {},
   "outputs": [],
   "source": [
    "# print A"
   ]
  },
  {
   "cell_type": "code",
   "execution_count": 1,
   "id": "e92b97f3",
   "metadata": {},
   "outputs": [
    {
     "name": "stdout",
     "output_type": "stream",
     "text": [
      "* * *\n",
      "*   *\n",
      "* * *\n",
      "*   *\n"
     ]
    }
   ],
   "source": [
    "x=0\n",
    "while x<4:\n",
    "    if x==0:\n",
    "        print('* * *')\n",
    "    elif x==1:\n",
    "        print('*   *')\n",
    "    elif x==2:\n",
    "        print('* * *')\n",
    "    elif x==3:\n",
    "        print('*   *')\n",
    "    else:\n",
    "        print('*   *')\n",
    "    x=x+1"
   ]
  },
  {
   "cell_type": "code",
   "execution_count": 2,
   "id": "63b46a22",
   "metadata": {},
   "outputs": [],
   "source": [
    "# print B"
   ]
  },
  {
   "cell_type": "code",
   "execution_count": 20,
   "id": "e0bbd283",
   "metadata": {},
   "outputs": [
    {
     "name": "stdout",
     "output_type": "stream",
     "text": [
      "* * * *\n",
      "*    *\n",
      "* * *\n",
      "*    *\n",
      "* * * *\n"
     ]
    }
   ],
   "source": [
    "x=0\n",
    "while x<5:\n",
    "    if x==0:\n",
    "        print('* * * *')\n",
    "    elif x==1:\n",
    "        print('*    *')\n",
    "    elif x==2:\n",
    "        print('* * *')\n",
    "    elif x==3:\n",
    "        print('*    *')\n",
    "    elif x==4:\n",
    "        print('* * * *')\n",
    "    else:\n",
    "        print('*   *')\n",
    "    x=x+1"
   ]
  },
  {
   "cell_type": "code",
   "execution_count": 4,
   "id": "fb77f90f",
   "metadata": {},
   "outputs": [],
   "source": [
    "# print C"
   ]
  },
  {
   "cell_type": "code",
   "execution_count": 5,
   "id": "e2ea61a9",
   "metadata": {},
   "outputs": [
    {
     "name": "stdout",
     "output_type": "stream",
     "text": [
      "* * *\n",
      "*   \n",
      "*   \n",
      "* * *\n"
     ]
    }
   ],
   "source": [
    "x=0\n",
    "while x<4:\n",
    "    if x==0:\n",
    "        print('* * *')\n",
    "    elif x==1:\n",
    "        print('*   ')\n",
    "    elif x==2:\n",
    "        print('*   ')\n",
    "    elif x==3:\n",
    "        print('* * *')\n",
    "    \n",
    "    else:\n",
    "        print('*   *')\n",
    "    x=x+1"
   ]
  },
  {
   "cell_type": "code",
   "execution_count": 6,
   "id": "9fdabf44",
   "metadata": {},
   "outputs": [],
   "source": [
    "# print D"
   ]
  },
  {
   "cell_type": "code",
   "execution_count": 35,
   "id": "1b85b1c4",
   "metadata": {},
   "outputs": [
    {
     "name": "stdout",
     "output_type": "stream",
     "text": [
      "* * \n",
      "*   *\n",
      "*   *\n",
      "* * \n"
     ]
    }
   ],
   "source": [
    "x=0\n",
    "while x<4:\n",
    "    if x==0:\n",
    "        print('* * ')\n",
    "    elif x==1:\n",
    "        print('*   *')\n",
    "    elif x==2:\n",
    "        print('*   *')\n",
    "    elif x==3:\n",
    "        print('* * ')\n",
    "    \n",
    "    else:\n",
    "        print('*   *')\n",
    "    x=x+1"
   ]
  },
  {
   "cell_type": "code",
   "execution_count": 8,
   "id": "af588c41",
   "metadata": {},
   "outputs": [],
   "source": [
    "# print E"
   ]
  },
  {
   "cell_type": "code",
   "execution_count": 113,
   "id": "cb99c62a",
   "metadata": {},
   "outputs": [
    {
     "name": "stdout",
     "output_type": "stream",
     "text": [
      "* * *\n",
      "* \n",
      "* * *\n",
      "* \n",
      "* * *\n"
     ]
    }
   ],
   "source": [
    "x=0\n",
    "while x<=4:\n",
    "    if x==0:\n",
    "        print('* * *')\n",
    "    elif x==1:\n",
    "        print('* ')\n",
    "    elif x==2:\n",
    "        print('* * *')\n",
    "    elif x==3:\n",
    "        print('* ')\n",
    "    elif x==4:\n",
    "        print('* * *')\n",
    "\n",
    "    \n",
    "    else:\n",
    "        print('*   *')\n",
    "    x=x+1"
   ]
  },
  {
   "cell_type": "code",
   "execution_count": 11,
   "id": "61482169",
   "metadata": {},
   "outputs": [],
   "source": [
    "# print F"
   ]
  },
  {
   "cell_type": "code",
   "execution_count": 56,
   "id": "cf1c63a3",
   "metadata": {},
   "outputs": [
    {
     "name": "stdout",
     "output_type": "stream",
     "text": [
      "* * *\n",
      "* \n",
      "* * *\n",
      "* \n",
      "* \n"
     ]
    }
   ],
   "source": [
    "x=0\n",
    "while x<5:\n",
    "    if x==0:\n",
    "        print('* * *')\n",
    "    elif x==1:\n",
    "        print('* ')\n",
    "    elif x==2:\n",
    "        print('* * *')\n",
    "    elif x==3:\n",
    "        print('* ')\n",
    "    elif x==4:\n",
    "        print('* ')\n",
    "    \n",
    "    else:\n",
    "        print('*   *')\n",
    "    x=x+1"
   ]
  },
  {
   "cell_type": "code",
   "execution_count": 13,
   "id": "e31f828a",
   "metadata": {},
   "outputs": [],
   "source": [
    "# print G"
   ]
  },
  {
   "cell_type": "code",
   "execution_count": 73,
   "id": "d874e739",
   "metadata": {},
   "outputs": [
    {
     "name": "stdout",
     "output_type": "stream",
     "text": [
      "* * * *\n",
      "* \n",
      "*    * * *\n",
      "* * *    *\n"
     ]
    }
   ],
   "source": [
    "x=0\n",
    "while x<4:\n",
    "    if x==0:\n",
    "        print('* * * *')\n",
    "    elif x==1:\n",
    "        print('* ')\n",
    "    elif x==2:\n",
    "        print('*    * * *')\n",
    "    elif x==3:\n",
    "        print('* * *    *')\n",
    "    \n",
    "    else:\n",
    "        print('*   *')\n",
    "    x=x+1"
   ]
  },
  {
   "cell_type": "code",
   "execution_count": 18,
   "id": "dc519733",
   "metadata": {},
   "outputs": [],
   "source": [
    "# print H"
   ]
  },
  {
   "cell_type": "code",
   "execution_count": 24,
   "id": "e5339369",
   "metadata": {},
   "outputs": [
    {
     "name": "stdout",
     "output_type": "stream",
     "text": [
      "*   *\n",
      "*   *\n",
      "* * *\n",
      "*   *\n",
      "*   *\n"
     ]
    }
   ],
   "source": [
    "x=0\n",
    "while x<5:\n",
    "    if x==0:\n",
    "        print('*   *')\n",
    "    elif x==1:\n",
    "        print('*   *')\n",
    "    elif x==2:\n",
    "        print('* * *')\n",
    "    elif x==3:\n",
    "        print('*   *')\n",
    "    elif x==4:\n",
    "        print('*   *')\n",
    "    \n",
    "    else:\n",
    "        print('*   *')\n",
    "    x=x+1"
   ]
  },
  {
   "cell_type": "code",
   "execution_count": 25,
   "id": "0356bd1f",
   "metadata": {},
   "outputs": [],
   "source": [
    "# print I"
   ]
  },
  {
   "cell_type": "code",
   "execution_count": 28,
   "id": "1a2c7b69",
   "metadata": {},
   "outputs": [
    {
     "name": "stdout",
     "output_type": "stream",
     "text": [
      "* * * *\n",
      "   *   \n",
      "   *   \n",
      "   *   \n",
      "* * * *\n"
     ]
    }
   ],
   "source": [
    "x=0\n",
    "while x<5:\n",
    "    if x==0:\n",
    "        print('* * * *')\n",
    "    elif x==1:\n",
    "        print('   *   ')\n",
    "    elif x==2:\n",
    "        print('   *   ')\n",
    "    elif x==3:\n",
    "        print('   *   ')\n",
    "    elif x==4:\n",
    "        print('* * * *')\n",
    "    \n",
    "    else:\n",
    "        print('*   *')\n",
    "    x=x+1"
   ]
  },
  {
   "cell_type": "code",
   "execution_count": 29,
   "id": "cce00c25",
   "metadata": {},
   "outputs": [],
   "source": [
    "# print J"
   ]
  },
  {
   "cell_type": "code",
   "execution_count": 34,
   "id": "d13ffcd1",
   "metadata": {},
   "outputs": [
    {
     "name": "stdout",
     "output_type": "stream",
     "text": [
      " * * *\n",
      "     *\n",
      "     *\n",
      "  *  *\n",
      "   * *\n"
     ]
    }
   ],
   "source": [
    "x=0\n",
    "while x<5:\n",
    "    if x==0:\n",
    "        print(' * * *')\n",
    "    elif x==1:\n",
    "        print('     *')\n",
    "    elif x==2:\n",
    "        print('     *')\n",
    "    elif x==3:\n",
    "        print('  *  *')\n",
    "    elif x==4:\n",
    "        print('   * *')\n",
    "    \n",
    "    else:\n",
    "        print('*   *')\n",
    "    x=x+1"
   ]
  },
  {
   "cell_type": "code",
   "execution_count": 36,
   "id": "9e5ee4d4",
   "metadata": {},
   "outputs": [],
   "source": [
    "# print K"
   ]
  },
  {
   "cell_type": "code",
   "execution_count": 38,
   "id": "035829bb",
   "metadata": {},
   "outputs": [
    {
     "name": "stdout",
     "output_type": "stream",
     "text": [
      "*   *\n",
      "* *\n",
      "*\n",
      "* *\n",
      "*   *\n"
     ]
    }
   ],
   "source": [
    "x=0\n",
    "while x<5:\n",
    "    if x==0:\n",
    "        print('*   *')\n",
    "    elif x==1:\n",
    "        print('* *')\n",
    "    elif x==2:\n",
    "        print('*')\n",
    "    elif x==3:\n",
    "        print('* *')\n",
    "    elif x==4:\n",
    "        print('*   *')\n",
    "    \n",
    "    else:\n",
    "        print('*   *')\n",
    "    x=x+1"
   ]
  },
  {
   "cell_type": "code",
   "execution_count": 39,
   "id": "180e3afd",
   "metadata": {},
   "outputs": [],
   "source": [
    "# print L"
   ]
  },
  {
   "cell_type": "code",
   "execution_count": 40,
   "id": "0040916e",
   "metadata": {},
   "outputs": [
    {
     "name": "stdout",
     "output_type": "stream",
     "text": [
      "*   \n",
      "* \n",
      "*\n",
      "* \n",
      "* * * *\n"
     ]
    }
   ],
   "source": [
    "x=0\n",
    "while x<5:\n",
    "    if x==0:\n",
    "        print('*   ')\n",
    "    elif x==1:\n",
    "        print('* ')\n",
    "    elif x==2:\n",
    "        print('*')\n",
    "    elif x==3:\n",
    "        print('* ')\n",
    "    elif x==4:\n",
    "        print('* * * *')\n",
    "    \n",
    "    else:\n",
    "        print('*   *')\n",
    "    x=x+1"
   ]
  },
  {
   "cell_type": "code",
   "execution_count": 43,
   "id": "b005dcd1",
   "metadata": {},
   "outputs": [],
   "source": [
    "# print M"
   ]
  },
  {
   "cell_type": "code",
   "execution_count": 50,
   "id": "70e1d56d",
   "metadata": {},
   "outputs": [
    {
     "name": "stdout",
     "output_type": "stream",
     "text": [
      "*       *\n",
      "* *  *  *\n",
      "*   *   *\n",
      "*       *\n",
      "*       *\n"
     ]
    }
   ],
   "source": [
    "x=0\n",
    "while x<5:\n",
    "    if x==0:\n",
    "        print('*       *')\n",
    "    elif x==1:\n",
    "        print('* *  *  *')\n",
    "    elif x==2:\n",
    "        print('*   *   *')\n",
    "    elif x==3:\n",
    "        print('*       *')\n",
    "    elif x==4:\n",
    "        print('*       *')\n",
    "    \n",
    "    else:\n",
    "        print('*   *')\n",
    "    x=x+1"
   ]
  },
  {
   "cell_type": "code",
   "execution_count": 45,
   "id": "50980812",
   "metadata": {},
   "outputs": [],
   "source": [
    "# print N"
   ]
  },
  {
   "cell_type": "code",
   "execution_count": 51,
   "id": "fb22c762",
   "metadata": {},
   "outputs": [
    {
     "name": "stdout",
     "output_type": "stream",
     "text": [
      "*       *\n",
      "* *     *\n",
      "*   *   *\n",
      "*     * *\n",
      "*       *\n"
     ]
    }
   ],
   "source": [
    "x=0\n",
    "while x<5:\n",
    "    if x==0:\n",
    "        print('*       *')\n",
    "    elif x==1:\n",
    "        print('* *     *')\n",
    "    elif x==2:\n",
    "        print('*   *   *')\n",
    "    elif x==3:\n",
    "        print('*     * *')\n",
    "    elif x==4:\n",
    "        print('*       *')\n",
    "    \n",
    "    else:\n",
    "        print('*   *')\n",
    "    x=x+1"
   ]
  },
  {
   "cell_type": "code",
   "execution_count": 52,
   "id": "269af4c4",
   "metadata": {},
   "outputs": [],
   "source": [
    "# print O"
   ]
  },
  {
   "cell_type": "code",
   "execution_count": 54,
   "id": "2c0bb775",
   "metadata": {},
   "outputs": [
    {
     "name": "stdout",
     "output_type": "stream",
     "text": [
      "   *    \n",
      "*     *\n",
      "*     *\n",
      "   *\n"
     ]
    }
   ],
   "source": [
    "x=0\n",
    "while x<4:\n",
    "    if x==0:\n",
    "        print('   *    ')\n",
    "    elif x==1:\n",
    "        print('*     *')\n",
    "    elif x==2:\n",
    "        print('*     *')\n",
    "    elif x==3:\n",
    "        print('   *')\n",
    "    \n",
    "    else:\n",
    "        print('*   *')\n",
    "    x=x+1"
   ]
  },
  {
   "cell_type": "code",
   "execution_count": 55,
   "id": "a173d233",
   "metadata": {},
   "outputs": [],
   "source": [
    "# print P"
   ]
  },
  {
   "cell_type": "code",
   "execution_count": 57,
   "id": "d11bcba7",
   "metadata": {},
   "outputs": [
    {
     "name": "stdout",
     "output_type": "stream",
     "text": [
      "* * *\n",
      "*   *\n",
      "* * *\n",
      "* \n",
      "* \n"
     ]
    }
   ],
   "source": [
    "x=0\n",
    "while x<5:\n",
    "    if x==0:\n",
    "        print('* * *')\n",
    "    elif x==1:\n",
    "        print('*   *')\n",
    "    elif x==2:\n",
    "        print('* * *')\n",
    "    elif x==3:\n",
    "        print('* ')\n",
    "    elif x==4:\n",
    "        print('* ')\n",
    "    \n",
    "    else:\n",
    "        print('*   *')\n",
    "    x=x+1"
   ]
  },
  {
   "cell_type": "code",
   "execution_count": 58,
   "id": "6b3a746d",
   "metadata": {},
   "outputs": [],
   "source": [
    "# print Q"
   ]
  },
  {
   "cell_type": "code",
   "execution_count": 61,
   "id": "cc48092c",
   "metadata": {},
   "outputs": [
    {
     "name": "stdout",
     "output_type": "stream",
     "text": [
      "   *    \n",
      "*     *\n",
      "*     *\n",
      "   *\n",
      "      *\n"
     ]
    }
   ],
   "source": [
    "x=0\n",
    "while x<5:\n",
    "    if x==0:\n",
    "        print('   *    ')\n",
    "    elif x==1:\n",
    "        print('*     *')\n",
    "    elif x==2:\n",
    "        print('*     *')\n",
    "    elif x==3:\n",
    "        print('   *')\n",
    "    elif x==4:\n",
    "        print('      *')\n",
    "    \n",
    "    else:\n",
    "        print('*   *')\n",
    "    x=x+1"
   ]
  },
  {
   "cell_type": "code",
   "execution_count": 62,
   "id": "9a486874",
   "metadata": {},
   "outputs": [],
   "source": [
    "# print R"
   ]
  },
  {
   "cell_type": "code",
   "execution_count": 64,
   "id": "9f238409",
   "metadata": {},
   "outputs": [
    {
     "name": "stdout",
     "output_type": "stream",
     "text": [
      "* * * * \n",
      "*    *\n",
      "*  *\n",
      "*    *\n",
      "*      *\n"
     ]
    }
   ],
   "source": [
    "x=0\n",
    "while x<=4:\n",
    "    if x==0:\n",
    "        print('* * * * ')\n",
    "    elif x==1:\n",
    "        print('*    *')\n",
    "    elif x==2:\n",
    "        print('*  *')\n",
    "    elif x==3:\n",
    "        print('*    *')\n",
    "    elif x==4:\n",
    "        print('*      *')\n",
    "    \n",
    "    else:\n",
    "        print('*   *')\n",
    "    x=x+1"
   ]
  },
  {
   "cell_type": "code",
   "execution_count": 65,
   "id": "b45169db",
   "metadata": {},
   "outputs": [],
   "source": [
    "# print s"
   ]
  },
  {
   "cell_type": "code",
   "execution_count": 69,
   "id": "42d02f5e",
   "metadata": {},
   "outputs": [
    {
     "name": "stdout",
     "output_type": "stream",
     "text": [
      "  * *  \n",
      "*    \n",
      "  *\n",
      "    *\n",
      "*  * \n"
     ]
    }
   ],
   "source": [
    "x=0\n",
    "while x<=4:\n",
    "    if x==0:\n",
    "        print('  * *  ')\n",
    "    elif x==1:\n",
    "        print('*    ')\n",
    "    elif x==2:\n",
    "        print('  *')\n",
    "    elif x==3:\n",
    "        print('    *')\n",
    "    elif x==4:\n",
    "        print('*  * ')\n",
    "    \n",
    "    else:\n",
    "        print('*   *')\n",
    "    x=x+1"
   ]
  },
  {
   "cell_type": "code",
   "execution_count": 70,
   "id": "c18cecb0",
   "metadata": {},
   "outputs": [],
   "source": [
    "# print T"
   ]
  },
  {
   "cell_type": "code",
   "execution_count": 75,
   "id": "3a563655",
   "metadata": {},
   "outputs": [
    {
     "name": "stdout",
     "output_type": "stream",
     "text": [
      "* * * * * \n",
      "    *\n",
      "    *\n",
      "    *\n"
     ]
    }
   ],
   "source": [
    "x=0\n",
    "while x<4:\n",
    "    if x==0:\n",
    "        print('* * * * * ')\n",
    "    elif x==1:\n",
    "        print('    *')\n",
    "    elif x==2:\n",
    "        print('    *')\n",
    "    elif x==3:\n",
    "        print('    *')\n",
    "    \n",
    "    else:\n",
    "        print('*   *')\n",
    "    x=x+1"
   ]
  },
  {
   "cell_type": "code",
   "execution_count": 76,
   "id": "d8e14dd5",
   "metadata": {},
   "outputs": [],
   "source": [
    "# print U"
   ]
  },
  {
   "cell_type": "code",
   "execution_count": 82,
   "id": "2aec5301",
   "metadata": {},
   "outputs": [
    {
     "name": "stdout",
     "output_type": "stream",
     "text": [
      "*        * \n",
      "*        *\n",
      " *      *\n",
      "   ***\n"
     ]
    }
   ],
   "source": [
    "x=0\n",
    "while x<4:\n",
    "    if x==0:\n",
    "        print('*        * ')\n",
    "    elif x==1:\n",
    "        print('*        *')\n",
    "    elif x==2:\n",
    "        print(' *      *')\n",
    "    elif x==3:\n",
    "        print('   ***')\n",
    "    \n",
    "    else:\n",
    "        print('*   *')\n",
    "    x=x+1"
   ]
  },
  {
   "cell_type": "code",
   "execution_count": 83,
   "id": "cf31ab10",
   "metadata": {},
   "outputs": [],
   "source": [
    "a# print V"
   ]
  },
  {
   "cell_type": "code",
   "execution_count": 90,
   "id": "a5e9b1fb",
   "metadata": {},
   "outputs": [
    {
     "name": "stdout",
     "output_type": "stream",
     "text": [
      "*         * \n",
      " *       *\n",
      "  *     *\n",
      "   *   *\n",
      "     *\n"
     ]
    }
   ],
   "source": [
    "x=0\n",
    "while x<=4:\n",
    "    if x==0:\n",
    "        print('*         * ')\n",
    "    elif x==1:\n",
    "        print(' *       *')\n",
    "    elif x==2:\n",
    "        print('  *     *')\n",
    "    elif x==3:\n",
    "        print('   *   *')\n",
    "    elif x==4:\n",
    "        print('     *')\n",
    "    \n",
    "    else:\n",
    "        print('*   *')\n",
    "    x=x+1"
   ]
  },
  {
   "cell_type": "code",
   "execution_count": 91,
   "id": "785100a2",
   "metadata": {},
   "outputs": [
    {
     "ename": "NameError",
     "evalue": "name 'a' is not defined",
     "output_type": "error",
     "traceback": [
      "\u001b[1;31m---------------------------------------------------------------------------\u001b[0m",
      "\u001b[1;31mNameError\u001b[0m                                 Traceback (most recent call last)",
      "Input \u001b[1;32mIn [91]\u001b[0m, in \u001b[0;36m<cell line: 1>\u001b[1;34m()\u001b[0m\n\u001b[1;32m----> 1\u001b[0m \u001b[43ma\u001b[49m\n",
      "\u001b[1;31mNameError\u001b[0m: name 'a' is not defined"
     ]
    }
   ],
   "source": [
    "a# print W"
   ]
  },
  {
   "cell_type": "code",
   "execution_count": 95,
   "id": "d5fe5f91",
   "metadata": {},
   "outputs": [
    {
     "name": "stdout",
     "output_type": "stream",
     "text": [
      "*          *           *\n",
      " *       *  *         *\n",
      "  *     *     *      *\n",
      "   *   *        *   *\n",
      "     *            *\n"
     ]
    }
   ],
   "source": [
    "x=0\n",
    "while x<=4:\n",
    "    if x==0:\n",
    "        print('*          *           *')\n",
    "    elif x==1:\n",
    "        print(' *       *  *         *')\n",
    "    elif x==2:\n",
    "        print('  *     *     *      *')\n",
    "    elif x==3:\n",
    "        print('   *   *        *   *')\n",
    "    elif x==4:\n",
    "        print('     *            *')\n",
    "    \n",
    "    else:\n",
    "        print('*   *')\n",
    "    x=x+1"
   ]
  },
  {
   "cell_type": "code",
   "execution_count": null,
   "id": "f23e23dd",
   "metadata": {},
   "outputs": [],
   "source": [
    "#print X"
   ]
  },
  {
   "cell_type": "code",
   "execution_count": 104,
   "id": "d24c6ded",
   "metadata": {},
   "outputs": [
    {
     "name": "stdout",
     "output_type": "stream",
     "text": [
      " *        *\n",
      "   *    *\n",
      "      *      \n",
      "   *    *\n",
      " *         *\n"
     ]
    }
   ],
   "source": [
    "x=0\n",
    "while x<=4:\n",
    "    if x==0:\n",
    "        print(' *        *')\n",
    "    elif x==1:\n",
    "        print('   *    *')\n",
    "    elif x==2:\n",
    "        print('      *')\n",
    "    elif x==3:\n",
    "        print('   *    *')\n",
    "    elif x==4:\n",
    "        print(' *         *')\n",
    "    \n",
    "    else:\n",
    "        print('*   *')\n",
    "    x=x+1"
   ]
  },
  {
   "cell_type": "code",
   "execution_count": 105,
   "id": "82a1476f",
   "metadata": {},
   "outputs": [],
   "source": [
    "#print Y"
   ]
  },
  {
   "cell_type": "code",
   "execution_count": 108,
   "id": "279f2b70",
   "metadata": {},
   "outputs": [
    {
     "name": "stdout",
     "output_type": "stream",
     "text": [
      "  *       *\n",
      "    *   *\n",
      "      *\n",
      "      *\n",
      "      * \n"
     ]
    }
   ],
   "source": [
    "x=0\n",
    "while x<=4:\n",
    "    if x==0:\n",
    "        print('  *       *')\n",
    "    elif x==1:\n",
    "        print('    *   *')\n",
    "    elif x==2:\n",
    "        print('      *')\n",
    "    elif x==3:\n",
    "        print('      *')\n",
    "    elif x==4:\n",
    "        print('      * ')\n",
    "    \n",
    "    else:\n",
    "        print('*   *')\n",
    "    x=x+1"
   ]
  },
  {
   "cell_type": "code",
   "execution_count": 109,
   "id": "b4fab37c",
   "metadata": {},
   "outputs": [],
   "source": [
    "#print Z"
   ]
  },
  {
   "cell_type": "code",
   "execution_count": 110,
   "id": "7a31d16c",
   "metadata": {},
   "outputs": [
    {
     "name": "stdout",
     "output_type": "stream",
     "text": [
      "* * * * *\n",
      "      *\n",
      "    *\n",
      "  *\n",
      "* * * * *\n"
     ]
    }
   ],
   "source": [
    "x=0\n",
    "while x<=4:\n",
    "    if x==0:\n",
    "        print('* * * * *')\n",
    "    elif x==1:\n",
    "        print('      *')\n",
    "    elif x==2:\n",
    "        print('    *')\n",
    "    elif x==3:\n",
    "        print('  *')\n",
    "    elif x==4:\n",
    "        print('* * * * *')\n",
    "   \n",
    "  \n",
    "    \n",
    "    else:\n",
    "        print('*   *')\n",
    "    x=x+1"
   ]
  },
  {
   "cell_type": "code",
   "execution_count": null,
   "id": "e9393820",
   "metadata": {},
   "outputs": [],
   "source": []
  }
 ],
 "metadata": {
  "kernelspec": {
   "display_name": "Python 3 (ipykernel)",
   "language": "python",
   "name": "python3"
  },
  "language_info": {
   "codemirror_mode": {
    "name": "ipython",
    "version": 3
   },
   "file_extension": ".py",
   "mimetype": "text/x-python",
   "name": "python",
   "nbconvert_exporter": "python",
   "pygments_lexer": "ipython3",
   "version": "3.9.12"
  }
 },
 "nbformat": 4,
 "nbformat_minor": 5
}
